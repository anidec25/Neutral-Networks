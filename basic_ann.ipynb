{
 "cells": [
  {
   "cell_type": "code",
   "execution_count": 73,
   "metadata": {},
   "outputs": [],
   "source": [
    "import pandas as pd\n",
    "import numpy as np"
   ]
  },
  {
   "cell_type": "code",
   "execution_count": 74,
   "metadata": {},
   "outputs": [],
   "source": [
    "df = pd.read_csv('./data/Churn_Modelling.csv')"
   ]
  },
  {
   "cell_type": "code",
   "execution_count": 75,
   "metadata": {},
   "outputs": [
    {
     "data": {
      "text/html": [
       "<div>\n",
       "<style scoped>\n",
       "    .dataframe tbody tr th:only-of-type {\n",
       "        vertical-align: middle;\n",
       "    }\n",
       "\n",
       "    .dataframe tbody tr th {\n",
       "        vertical-align: top;\n",
       "    }\n",
       "\n",
       "    .dataframe thead th {\n",
       "        text-align: right;\n",
       "    }\n",
       "</style>\n",
       "<table border=\"1\" class=\"dataframe\">\n",
       "  <thead>\n",
       "    <tr style=\"text-align: right;\">\n",
       "      <th></th>\n",
       "      <th>RowNumber</th>\n",
       "      <th>CustomerId</th>\n",
       "      <th>Surname</th>\n",
       "      <th>CreditScore</th>\n",
       "      <th>Geography</th>\n",
       "      <th>Gender</th>\n",
       "      <th>Age</th>\n",
       "      <th>Tenure</th>\n",
       "      <th>Balance</th>\n",
       "      <th>NumOfProducts</th>\n",
       "      <th>HasCrCard</th>\n",
       "      <th>IsActiveMember</th>\n",
       "      <th>EstimatedSalary</th>\n",
       "      <th>Exited</th>\n",
       "    </tr>\n",
       "  </thead>\n",
       "  <tbody>\n",
       "    <tr>\n",
       "      <th>0</th>\n",
       "      <td>1</td>\n",
       "      <td>15634602</td>\n",
       "      <td>Hargrave</td>\n",
       "      <td>619</td>\n",
       "      <td>France</td>\n",
       "      <td>Female</td>\n",
       "      <td>42</td>\n",
       "      <td>2</td>\n",
       "      <td>0.00</td>\n",
       "      <td>1</td>\n",
       "      <td>1</td>\n",
       "      <td>1</td>\n",
       "      <td>101348.88</td>\n",
       "      <td>1</td>\n",
       "    </tr>\n",
       "    <tr>\n",
       "      <th>1</th>\n",
       "      <td>2</td>\n",
       "      <td>15647311</td>\n",
       "      <td>Hill</td>\n",
       "      <td>608</td>\n",
       "      <td>Spain</td>\n",
       "      <td>Female</td>\n",
       "      <td>41</td>\n",
       "      <td>1</td>\n",
       "      <td>83807.86</td>\n",
       "      <td>1</td>\n",
       "      <td>0</td>\n",
       "      <td>1</td>\n",
       "      <td>112542.58</td>\n",
       "      <td>0</td>\n",
       "    </tr>\n",
       "    <tr>\n",
       "      <th>2</th>\n",
       "      <td>3</td>\n",
       "      <td>15619304</td>\n",
       "      <td>Onio</td>\n",
       "      <td>502</td>\n",
       "      <td>France</td>\n",
       "      <td>Female</td>\n",
       "      <td>42</td>\n",
       "      <td>8</td>\n",
       "      <td>159660.80</td>\n",
       "      <td>3</td>\n",
       "      <td>1</td>\n",
       "      <td>0</td>\n",
       "      <td>113931.57</td>\n",
       "      <td>1</td>\n",
       "    </tr>\n",
       "    <tr>\n",
       "      <th>3</th>\n",
       "      <td>4</td>\n",
       "      <td>15701354</td>\n",
       "      <td>Boni</td>\n",
       "      <td>699</td>\n",
       "      <td>France</td>\n",
       "      <td>Female</td>\n",
       "      <td>39</td>\n",
       "      <td>1</td>\n",
       "      <td>0.00</td>\n",
       "      <td>2</td>\n",
       "      <td>0</td>\n",
       "      <td>0</td>\n",
       "      <td>93826.63</td>\n",
       "      <td>0</td>\n",
       "    </tr>\n",
       "    <tr>\n",
       "      <th>4</th>\n",
       "      <td>5</td>\n",
       "      <td>15737888</td>\n",
       "      <td>Mitchell</td>\n",
       "      <td>850</td>\n",
       "      <td>Spain</td>\n",
       "      <td>Female</td>\n",
       "      <td>43</td>\n",
       "      <td>2</td>\n",
       "      <td>125510.82</td>\n",
       "      <td>1</td>\n",
       "      <td>1</td>\n",
       "      <td>1</td>\n",
       "      <td>79084.10</td>\n",
       "      <td>0</td>\n",
       "    </tr>\n",
       "    <tr>\n",
       "      <th>...</th>\n",
       "      <td>...</td>\n",
       "      <td>...</td>\n",
       "      <td>...</td>\n",
       "      <td>...</td>\n",
       "      <td>...</td>\n",
       "      <td>...</td>\n",
       "      <td>...</td>\n",
       "      <td>...</td>\n",
       "      <td>...</td>\n",
       "      <td>...</td>\n",
       "      <td>...</td>\n",
       "      <td>...</td>\n",
       "      <td>...</td>\n",
       "      <td>...</td>\n",
       "    </tr>\n",
       "    <tr>\n",
       "      <th>9995</th>\n",
       "      <td>9996</td>\n",
       "      <td>15606229</td>\n",
       "      <td>Obijiaku</td>\n",
       "      <td>771</td>\n",
       "      <td>France</td>\n",
       "      <td>Male</td>\n",
       "      <td>39</td>\n",
       "      <td>5</td>\n",
       "      <td>0.00</td>\n",
       "      <td>2</td>\n",
       "      <td>1</td>\n",
       "      <td>0</td>\n",
       "      <td>96270.64</td>\n",
       "      <td>0</td>\n",
       "    </tr>\n",
       "    <tr>\n",
       "      <th>9996</th>\n",
       "      <td>9997</td>\n",
       "      <td>15569892</td>\n",
       "      <td>Johnstone</td>\n",
       "      <td>516</td>\n",
       "      <td>France</td>\n",
       "      <td>Male</td>\n",
       "      <td>35</td>\n",
       "      <td>10</td>\n",
       "      <td>57369.61</td>\n",
       "      <td>1</td>\n",
       "      <td>1</td>\n",
       "      <td>1</td>\n",
       "      <td>101699.77</td>\n",
       "      <td>0</td>\n",
       "    </tr>\n",
       "    <tr>\n",
       "      <th>9997</th>\n",
       "      <td>9998</td>\n",
       "      <td>15584532</td>\n",
       "      <td>Liu</td>\n",
       "      <td>709</td>\n",
       "      <td>France</td>\n",
       "      <td>Female</td>\n",
       "      <td>36</td>\n",
       "      <td>7</td>\n",
       "      <td>0.00</td>\n",
       "      <td>1</td>\n",
       "      <td>0</td>\n",
       "      <td>1</td>\n",
       "      <td>42085.58</td>\n",
       "      <td>1</td>\n",
       "    </tr>\n",
       "    <tr>\n",
       "      <th>9998</th>\n",
       "      <td>9999</td>\n",
       "      <td>15682355</td>\n",
       "      <td>Sabbatini</td>\n",
       "      <td>772</td>\n",
       "      <td>Germany</td>\n",
       "      <td>Male</td>\n",
       "      <td>42</td>\n",
       "      <td>3</td>\n",
       "      <td>75075.31</td>\n",
       "      <td>2</td>\n",
       "      <td>1</td>\n",
       "      <td>0</td>\n",
       "      <td>92888.52</td>\n",
       "      <td>1</td>\n",
       "    </tr>\n",
       "    <tr>\n",
       "      <th>9999</th>\n",
       "      <td>10000</td>\n",
       "      <td>15628319</td>\n",
       "      <td>Walker</td>\n",
       "      <td>792</td>\n",
       "      <td>France</td>\n",
       "      <td>Female</td>\n",
       "      <td>28</td>\n",
       "      <td>4</td>\n",
       "      <td>130142.79</td>\n",
       "      <td>1</td>\n",
       "      <td>1</td>\n",
       "      <td>0</td>\n",
       "      <td>38190.78</td>\n",
       "      <td>0</td>\n",
       "    </tr>\n",
       "  </tbody>\n",
       "</table>\n",
       "<p>10000 rows × 14 columns</p>\n",
       "</div>"
      ],
      "text/plain": [
       "      RowNumber  CustomerId    Surname  CreditScore Geography  Gender  Age  \\\n",
       "0             1    15634602   Hargrave          619    France  Female   42   \n",
       "1             2    15647311       Hill          608     Spain  Female   41   \n",
       "2             3    15619304       Onio          502    France  Female   42   \n",
       "3             4    15701354       Boni          699    France  Female   39   \n",
       "4             5    15737888   Mitchell          850     Spain  Female   43   \n",
       "...         ...         ...        ...          ...       ...     ...  ...   \n",
       "9995       9996    15606229   Obijiaku          771    France    Male   39   \n",
       "9996       9997    15569892  Johnstone          516    France    Male   35   \n",
       "9997       9998    15584532        Liu          709    France  Female   36   \n",
       "9998       9999    15682355  Sabbatini          772   Germany    Male   42   \n",
       "9999      10000    15628319     Walker          792    France  Female   28   \n",
       "\n",
       "      Tenure    Balance  NumOfProducts  HasCrCard  IsActiveMember  \\\n",
       "0          2       0.00              1          1               1   \n",
       "1          1   83807.86              1          0               1   \n",
       "2          8  159660.80              3          1               0   \n",
       "3          1       0.00              2          0               0   \n",
       "4          2  125510.82              1          1               1   \n",
       "...      ...        ...            ...        ...             ...   \n",
       "9995       5       0.00              2          1               0   \n",
       "9996      10   57369.61              1          1               1   \n",
       "9997       7       0.00              1          0               1   \n",
       "9998       3   75075.31              2          1               0   \n",
       "9999       4  130142.79              1          1               0   \n",
       "\n",
       "      EstimatedSalary  Exited  \n",
       "0           101348.88       1  \n",
       "1           112542.58       0  \n",
       "2           113931.57       1  \n",
       "3            93826.63       0  \n",
       "4            79084.10       0  \n",
       "...               ...     ...  \n",
       "9995         96270.64       0  \n",
       "9996        101699.77       0  \n",
       "9997         42085.58       1  \n",
       "9998         92888.52       1  \n",
       "9999         38190.78       0  \n",
       "\n",
       "[10000 rows x 14 columns]"
      ]
     },
     "execution_count": 75,
     "metadata": {},
     "output_type": "execute_result"
    }
   ],
   "source": [
    "df"
   ]
  },
  {
   "cell_type": "code",
   "execution_count": 76,
   "metadata": {},
   "outputs": [
    {
     "data": {
      "text/plain": [
       "(10000, 14)"
      ]
     },
     "execution_count": 76,
     "metadata": {},
     "output_type": "execute_result"
    }
   ],
   "source": [
    "df.shape"
   ]
  },
  {
   "cell_type": "code",
   "execution_count": 77,
   "metadata": {},
   "outputs": [
    {
     "name": "stdout",
     "output_type": "stream",
     "text": [
      "<class 'pandas.core.frame.DataFrame'>\n",
      "RangeIndex: 10000 entries, 0 to 9999\n",
      "Data columns (total 14 columns):\n",
      " #   Column           Non-Null Count  Dtype  \n",
      "---  ------           --------------  -----  \n",
      " 0   RowNumber        10000 non-null  int64  \n",
      " 1   CustomerId       10000 non-null  int64  \n",
      " 2   Surname          10000 non-null  object \n",
      " 3   CreditScore      10000 non-null  int64  \n",
      " 4   Geography        10000 non-null  object \n",
      " 5   Gender           10000 non-null  object \n",
      " 6   Age              10000 non-null  int64  \n",
      " 7   Tenure           10000 non-null  int64  \n",
      " 8   Balance          10000 non-null  float64\n",
      " 9   NumOfProducts    10000 non-null  int64  \n",
      " 10  HasCrCard        10000 non-null  int64  \n",
      " 11  IsActiveMember   10000 non-null  int64  \n",
      " 12  EstimatedSalary  10000 non-null  float64\n",
      " 13  Exited           10000 non-null  int64  \n",
      "dtypes: float64(2), int64(9), object(3)\n",
      "memory usage: 1.1+ MB\n"
     ]
    }
   ],
   "source": [
    "df.info()"
   ]
  },
  {
   "cell_type": "code",
   "execution_count": 78,
   "metadata": {},
   "outputs": [
    {
     "data": {
      "text/plain": [
       "0"
      ]
     },
     "execution_count": 78,
     "metadata": {},
     "output_type": "execute_result"
    }
   ],
   "source": [
    "df.duplicated().sum()"
   ]
  },
  {
   "cell_type": "code",
   "execution_count": 79,
   "metadata": {},
   "outputs": [
    {
     "data": {
      "text/plain": [
       "0    7963\n",
       "1    2037\n",
       "Name: Exited, dtype: int64"
      ]
     },
     "execution_count": 79,
     "metadata": {},
     "output_type": "execute_result"
    }
   ],
   "source": [
    "df['Exited'].value_counts()"
   ]
  },
  {
   "cell_type": "code",
   "execution_count": 80,
   "metadata": {},
   "outputs": [
    {
     "data": {
      "text/plain": [
       "France     5014\n",
       "Germany    2509\n",
       "Spain      2477\n",
       "Name: Geography, dtype: int64"
      ]
     },
     "execution_count": 80,
     "metadata": {},
     "output_type": "execute_result"
    }
   ],
   "source": [
    "df['Geography'].value_counts()"
   ]
  },
  {
   "cell_type": "code",
   "execution_count": 81,
   "metadata": {},
   "outputs": [
    {
     "data": {
      "text/plain": [
       "Male      5457\n",
       "Female    4543\n",
       "Name: Gender, dtype: int64"
      ]
     },
     "execution_count": 81,
     "metadata": {},
     "output_type": "execute_result"
    }
   ],
   "source": [
    "df['Gender'].value_counts()"
   ]
  },
  {
   "cell_type": "code",
   "execution_count": 82,
   "metadata": {},
   "outputs": [],
   "source": [
    "drop_cols = ['RowNumber','CustomerId','Surname']\n",
    "\n",
    "df.drop(columns=drop_cols, inplace=True)"
   ]
  },
  {
   "cell_type": "code",
   "execution_count": 83,
   "metadata": {},
   "outputs": [
    {
     "data": {
      "text/html": [
       "<div>\n",
       "<style scoped>\n",
       "    .dataframe tbody tr th:only-of-type {\n",
       "        vertical-align: middle;\n",
       "    }\n",
       "\n",
       "    .dataframe tbody tr th {\n",
       "        vertical-align: top;\n",
       "    }\n",
       "\n",
       "    .dataframe thead th {\n",
       "        text-align: right;\n",
       "    }\n",
       "</style>\n",
       "<table border=\"1\" class=\"dataframe\">\n",
       "  <thead>\n",
       "    <tr style=\"text-align: right;\">\n",
       "      <th></th>\n",
       "      <th>CreditScore</th>\n",
       "      <th>Geography</th>\n",
       "      <th>Gender</th>\n",
       "      <th>Age</th>\n",
       "      <th>Tenure</th>\n",
       "      <th>Balance</th>\n",
       "      <th>NumOfProducts</th>\n",
       "      <th>HasCrCard</th>\n",
       "      <th>IsActiveMember</th>\n",
       "      <th>EstimatedSalary</th>\n",
       "      <th>Exited</th>\n",
       "    </tr>\n",
       "  </thead>\n",
       "  <tbody>\n",
       "    <tr>\n",
       "      <th>0</th>\n",
       "      <td>619</td>\n",
       "      <td>France</td>\n",
       "      <td>Female</td>\n",
       "      <td>42</td>\n",
       "      <td>2</td>\n",
       "      <td>0.00</td>\n",
       "      <td>1</td>\n",
       "      <td>1</td>\n",
       "      <td>1</td>\n",
       "      <td>101348.88</td>\n",
       "      <td>1</td>\n",
       "    </tr>\n",
       "    <tr>\n",
       "      <th>1</th>\n",
       "      <td>608</td>\n",
       "      <td>Spain</td>\n",
       "      <td>Female</td>\n",
       "      <td>41</td>\n",
       "      <td>1</td>\n",
       "      <td>83807.86</td>\n",
       "      <td>1</td>\n",
       "      <td>0</td>\n",
       "      <td>1</td>\n",
       "      <td>112542.58</td>\n",
       "      <td>0</td>\n",
       "    </tr>\n",
       "    <tr>\n",
       "      <th>2</th>\n",
       "      <td>502</td>\n",
       "      <td>France</td>\n",
       "      <td>Female</td>\n",
       "      <td>42</td>\n",
       "      <td>8</td>\n",
       "      <td>159660.80</td>\n",
       "      <td>3</td>\n",
       "      <td>1</td>\n",
       "      <td>0</td>\n",
       "      <td>113931.57</td>\n",
       "      <td>1</td>\n",
       "    </tr>\n",
       "    <tr>\n",
       "      <th>3</th>\n",
       "      <td>699</td>\n",
       "      <td>France</td>\n",
       "      <td>Female</td>\n",
       "      <td>39</td>\n",
       "      <td>1</td>\n",
       "      <td>0.00</td>\n",
       "      <td>2</td>\n",
       "      <td>0</td>\n",
       "      <td>0</td>\n",
       "      <td>93826.63</td>\n",
       "      <td>0</td>\n",
       "    </tr>\n",
       "    <tr>\n",
       "      <th>4</th>\n",
       "      <td>850</td>\n",
       "      <td>Spain</td>\n",
       "      <td>Female</td>\n",
       "      <td>43</td>\n",
       "      <td>2</td>\n",
       "      <td>125510.82</td>\n",
       "      <td>1</td>\n",
       "      <td>1</td>\n",
       "      <td>1</td>\n",
       "      <td>79084.10</td>\n",
       "      <td>0</td>\n",
       "    </tr>\n",
       "  </tbody>\n",
       "</table>\n",
       "</div>"
      ],
      "text/plain": [
       "   CreditScore Geography  Gender  Age  Tenure    Balance  NumOfProducts  \\\n",
       "0          619    France  Female   42       2       0.00              1   \n",
       "1          608     Spain  Female   41       1   83807.86              1   \n",
       "2          502    France  Female   42       8  159660.80              3   \n",
       "3          699    France  Female   39       1       0.00              2   \n",
       "4          850     Spain  Female   43       2  125510.82              1   \n",
       "\n",
       "   HasCrCard  IsActiveMember  EstimatedSalary  Exited  \n",
       "0          1               1        101348.88       1  \n",
       "1          0               1        112542.58       0  \n",
       "2          1               0        113931.57       1  \n",
       "3          0               0         93826.63       0  \n",
       "4          1               1         79084.10       0  "
      ]
     },
     "execution_count": 83,
     "metadata": {},
     "output_type": "execute_result"
    }
   ],
   "source": [
    "df.head()"
   ]
  },
  {
   "cell_type": "code",
   "execution_count": 84,
   "metadata": {},
   "outputs": [],
   "source": [
    "df = pd.get_dummies(df,columns=['Geography','Gender'], drop_first=True)"
   ]
  },
  {
   "cell_type": "code",
   "execution_count": 85,
   "metadata": {},
   "outputs": [
    {
     "data": {
      "text/html": [
       "<div>\n",
       "<style scoped>\n",
       "    .dataframe tbody tr th:only-of-type {\n",
       "        vertical-align: middle;\n",
       "    }\n",
       "\n",
       "    .dataframe tbody tr th {\n",
       "        vertical-align: top;\n",
       "    }\n",
       "\n",
       "    .dataframe thead th {\n",
       "        text-align: right;\n",
       "    }\n",
       "</style>\n",
       "<table border=\"1\" class=\"dataframe\">\n",
       "  <thead>\n",
       "    <tr style=\"text-align: right;\">\n",
       "      <th></th>\n",
       "      <th>CreditScore</th>\n",
       "      <th>Age</th>\n",
       "      <th>Tenure</th>\n",
       "      <th>Balance</th>\n",
       "      <th>NumOfProducts</th>\n",
       "      <th>HasCrCard</th>\n",
       "      <th>IsActiveMember</th>\n",
       "      <th>EstimatedSalary</th>\n",
       "      <th>Exited</th>\n",
       "      <th>Geography_Germany</th>\n",
       "      <th>Geography_Spain</th>\n",
       "      <th>Gender_Male</th>\n",
       "    </tr>\n",
       "  </thead>\n",
       "  <tbody>\n",
       "    <tr>\n",
       "      <th>0</th>\n",
       "      <td>619</td>\n",
       "      <td>42</td>\n",
       "      <td>2</td>\n",
       "      <td>0.00</td>\n",
       "      <td>1</td>\n",
       "      <td>1</td>\n",
       "      <td>1</td>\n",
       "      <td>101348.88</td>\n",
       "      <td>1</td>\n",
       "      <td>0</td>\n",
       "      <td>0</td>\n",
       "      <td>0</td>\n",
       "    </tr>\n",
       "    <tr>\n",
       "      <th>1</th>\n",
       "      <td>608</td>\n",
       "      <td>41</td>\n",
       "      <td>1</td>\n",
       "      <td>83807.86</td>\n",
       "      <td>1</td>\n",
       "      <td>0</td>\n",
       "      <td>1</td>\n",
       "      <td>112542.58</td>\n",
       "      <td>0</td>\n",
       "      <td>0</td>\n",
       "      <td>1</td>\n",
       "      <td>0</td>\n",
       "    </tr>\n",
       "    <tr>\n",
       "      <th>2</th>\n",
       "      <td>502</td>\n",
       "      <td>42</td>\n",
       "      <td>8</td>\n",
       "      <td>159660.80</td>\n",
       "      <td>3</td>\n",
       "      <td>1</td>\n",
       "      <td>0</td>\n",
       "      <td>113931.57</td>\n",
       "      <td>1</td>\n",
       "      <td>0</td>\n",
       "      <td>0</td>\n",
       "      <td>0</td>\n",
       "    </tr>\n",
       "    <tr>\n",
       "      <th>3</th>\n",
       "      <td>699</td>\n",
       "      <td>39</td>\n",
       "      <td>1</td>\n",
       "      <td>0.00</td>\n",
       "      <td>2</td>\n",
       "      <td>0</td>\n",
       "      <td>0</td>\n",
       "      <td>93826.63</td>\n",
       "      <td>0</td>\n",
       "      <td>0</td>\n",
       "      <td>0</td>\n",
       "      <td>0</td>\n",
       "    </tr>\n",
       "    <tr>\n",
       "      <th>4</th>\n",
       "      <td>850</td>\n",
       "      <td>43</td>\n",
       "      <td>2</td>\n",
       "      <td>125510.82</td>\n",
       "      <td>1</td>\n",
       "      <td>1</td>\n",
       "      <td>1</td>\n",
       "      <td>79084.10</td>\n",
       "      <td>0</td>\n",
       "      <td>0</td>\n",
       "      <td>1</td>\n",
       "      <td>0</td>\n",
       "    </tr>\n",
       "    <tr>\n",
       "      <th>...</th>\n",
       "      <td>...</td>\n",
       "      <td>...</td>\n",
       "      <td>...</td>\n",
       "      <td>...</td>\n",
       "      <td>...</td>\n",
       "      <td>...</td>\n",
       "      <td>...</td>\n",
       "      <td>...</td>\n",
       "      <td>...</td>\n",
       "      <td>...</td>\n",
       "      <td>...</td>\n",
       "      <td>...</td>\n",
       "    </tr>\n",
       "    <tr>\n",
       "      <th>9995</th>\n",
       "      <td>771</td>\n",
       "      <td>39</td>\n",
       "      <td>5</td>\n",
       "      <td>0.00</td>\n",
       "      <td>2</td>\n",
       "      <td>1</td>\n",
       "      <td>0</td>\n",
       "      <td>96270.64</td>\n",
       "      <td>0</td>\n",
       "      <td>0</td>\n",
       "      <td>0</td>\n",
       "      <td>1</td>\n",
       "    </tr>\n",
       "    <tr>\n",
       "      <th>9996</th>\n",
       "      <td>516</td>\n",
       "      <td>35</td>\n",
       "      <td>10</td>\n",
       "      <td>57369.61</td>\n",
       "      <td>1</td>\n",
       "      <td>1</td>\n",
       "      <td>1</td>\n",
       "      <td>101699.77</td>\n",
       "      <td>0</td>\n",
       "      <td>0</td>\n",
       "      <td>0</td>\n",
       "      <td>1</td>\n",
       "    </tr>\n",
       "    <tr>\n",
       "      <th>9997</th>\n",
       "      <td>709</td>\n",
       "      <td>36</td>\n",
       "      <td>7</td>\n",
       "      <td>0.00</td>\n",
       "      <td>1</td>\n",
       "      <td>0</td>\n",
       "      <td>1</td>\n",
       "      <td>42085.58</td>\n",
       "      <td>1</td>\n",
       "      <td>0</td>\n",
       "      <td>0</td>\n",
       "      <td>0</td>\n",
       "    </tr>\n",
       "    <tr>\n",
       "      <th>9998</th>\n",
       "      <td>772</td>\n",
       "      <td>42</td>\n",
       "      <td>3</td>\n",
       "      <td>75075.31</td>\n",
       "      <td>2</td>\n",
       "      <td>1</td>\n",
       "      <td>0</td>\n",
       "      <td>92888.52</td>\n",
       "      <td>1</td>\n",
       "      <td>1</td>\n",
       "      <td>0</td>\n",
       "      <td>1</td>\n",
       "    </tr>\n",
       "    <tr>\n",
       "      <th>9999</th>\n",
       "      <td>792</td>\n",
       "      <td>28</td>\n",
       "      <td>4</td>\n",
       "      <td>130142.79</td>\n",
       "      <td>1</td>\n",
       "      <td>1</td>\n",
       "      <td>0</td>\n",
       "      <td>38190.78</td>\n",
       "      <td>0</td>\n",
       "      <td>0</td>\n",
       "      <td>0</td>\n",
       "      <td>0</td>\n",
       "    </tr>\n",
       "  </tbody>\n",
       "</table>\n",
       "<p>10000 rows × 12 columns</p>\n",
       "</div>"
      ],
      "text/plain": [
       "      CreditScore  Age  Tenure    Balance  NumOfProducts  HasCrCard  \\\n",
       "0             619   42       2       0.00              1          1   \n",
       "1             608   41       1   83807.86              1          0   \n",
       "2             502   42       8  159660.80              3          1   \n",
       "3             699   39       1       0.00              2          0   \n",
       "4             850   43       2  125510.82              1          1   \n",
       "...           ...  ...     ...        ...            ...        ...   \n",
       "9995          771   39       5       0.00              2          1   \n",
       "9996          516   35      10   57369.61              1          1   \n",
       "9997          709   36       7       0.00              1          0   \n",
       "9998          772   42       3   75075.31              2          1   \n",
       "9999          792   28       4  130142.79              1          1   \n",
       "\n",
       "      IsActiveMember  EstimatedSalary  Exited  Geography_Germany  \\\n",
       "0                  1        101348.88       1                  0   \n",
       "1                  1        112542.58       0                  0   \n",
       "2                  0        113931.57       1                  0   \n",
       "3                  0         93826.63       0                  0   \n",
       "4                  1         79084.10       0                  0   \n",
       "...              ...              ...     ...                ...   \n",
       "9995               0         96270.64       0                  0   \n",
       "9996               1        101699.77       0                  0   \n",
       "9997               1         42085.58       1                  0   \n",
       "9998               0         92888.52       1                  1   \n",
       "9999               0         38190.78       0                  0   \n",
       "\n",
       "      Geography_Spain  Gender_Male  \n",
       "0                   0            0  \n",
       "1                   1            0  \n",
       "2                   0            0  \n",
       "3                   0            0  \n",
       "4                   1            0  \n",
       "...               ...          ...  \n",
       "9995                0            1  \n",
       "9996                0            1  \n",
       "9997                0            0  \n",
       "9998                0            1  \n",
       "9999                0            0  \n",
       "\n",
       "[10000 rows x 12 columns]"
      ]
     },
     "execution_count": 85,
     "metadata": {},
     "output_type": "execute_result"
    }
   ],
   "source": [
    "df"
   ]
  },
  {
   "cell_type": "code",
   "execution_count": 86,
   "metadata": {},
   "outputs": [],
   "source": [
    "X = df.drop(columns=['Exited'])\n",
    "y = df['Exited']\n",
    "\n",
    "from sklearn.model_selection import train_test_split\n",
    "X_train, X_test, y_train, y_test = train_test_split(X,y, test_size=0.2, random_state=1)"
   ]
  },
  {
   "cell_type": "code",
   "execution_count": 87,
   "metadata": {},
   "outputs": [
    {
     "data": {
      "text/plain": [
       "(10000, 11)"
      ]
     },
     "execution_count": 87,
     "metadata": {},
     "output_type": "execute_result"
    }
   ],
   "source": [
    "X.shape"
   ]
  },
  {
   "cell_type": "code",
   "execution_count": 88,
   "metadata": {},
   "outputs": [
    {
     "data": {
      "text/plain": [
       "(8000, 11)"
      ]
     },
     "execution_count": 88,
     "metadata": {},
     "output_type": "execute_result"
    }
   ],
   "source": [
    "X_train.shape"
   ]
  },
  {
   "cell_type": "code",
   "execution_count": 89,
   "metadata": {},
   "outputs": [],
   "source": [
    "from sklearn.preprocessing import StandardScaler\n",
    "\n",
    "scalar = StandardScaler()\n",
    "\n",
    "X_train_scaled = scalar.fit_transform(X_train)\n",
    "X_test_scaled = scalar.transform(X_test)\n"
   ]
  },
  {
   "cell_type": "code",
   "execution_count": 90,
   "metadata": {},
   "outputs": [
    {
     "data": {
      "text/plain": [
       "array([[-0.23082038, -0.94449979, -0.70174202, ...,  1.71490137,\n",
       "        -0.57273139,  0.91509065],\n",
       "       [-0.25150912, -0.94449979, -0.35520275, ..., -0.58312392,\n",
       "        -0.57273139, -1.09278791],\n",
       "       [-0.3963303 ,  0.77498705,  0.33787579, ...,  1.71490137,\n",
       "        -0.57273139, -1.09278791],\n",
       "       ...,\n",
       "       [ 0.22433188,  0.58393295,  1.3774936 , ..., -0.58312392,\n",
       "        -0.57273139, -1.09278791],\n",
       "       [ 0.13123255,  0.01077067,  1.03095433, ..., -0.58312392,\n",
       "        -0.57273139, -1.09278791],\n",
       "       [ 1.1656695 ,  0.29735181,  0.33787579, ...,  1.71490137,\n",
       "        -0.57273139,  0.91509065]])"
      ]
     },
     "execution_count": 90,
     "metadata": {},
     "output_type": "execute_result"
    }
   ],
   "source": [
    "X_train_scaled"
   ]
  },
  {
   "attachments": {},
   "cell_type": "markdown",
   "metadata": {},
   "source": [
    "## ANN Model "
   ]
  },
  {
   "cell_type": "code",
   "execution_count": 91,
   "metadata": {},
   "outputs": [],
   "source": [
    "import tensorflow\n",
    "from tensorflow import keras\n",
    "from tensorflow.keras import Sequential\n",
    "from tensorflow.keras.layers import Dense"
   ]
  },
  {
   "cell_type": "code",
   "execution_count": 92,
   "metadata": {},
   "outputs": [],
   "source": [
    "model = Sequential()\n",
    "\n",
    "model.add(Dense(11, activation = 'relu', input_dim = 11))\n",
    "model.add(Dense(11, activation = 'relu'))\n",
    "model.add(Dense(1, activation = 'sigmoid'))\n"
   ]
  },
  {
   "cell_type": "code",
   "execution_count": 93,
   "metadata": {},
   "outputs": [
    {
     "name": "stdout",
     "output_type": "stream",
     "text": [
      "Model: \"sequential_3\"\n",
      "_________________________________________________________________\n",
      " Layer (type)                Output Shape              Param #   \n",
      "=================================================================\n",
      " dense_8 (Dense)             (None, 11)                132       \n",
      "                                                                 \n",
      " dense_9 (Dense)             (None, 11)                132       \n",
      "                                                                 \n",
      " dense_10 (Dense)            (None, 1)                 12        \n",
      "                                                                 \n",
      "=================================================================\n",
      "Total params: 276\n",
      "Trainable params: 276\n",
      "Non-trainable params: 0\n",
      "_________________________________________________________________\n"
     ]
    }
   ],
   "source": [
    "model.summary()"
   ]
  },
  {
   "cell_type": "code",
   "execution_count": 94,
   "metadata": {},
   "outputs": [],
   "source": [
    "model.compile(loss='binary_crossentropy', optimizer='Adam', metrics=['accuracy'])"
   ]
  },
  {
   "cell_type": "code",
   "execution_count": 95,
   "metadata": {},
   "outputs": [
    {
     "name": "stdout",
     "output_type": "stream",
     "text": [
      "Epoch 1/100\n",
      "200/200 [==============================] - 0s 744us/step - loss: 0.5192 - accuracy: 0.7908 - val_loss: 0.4848 - val_accuracy: 0.7975\n",
      "Epoch 2/100\n",
      "200/200 [==============================] - 0s 457us/step - loss: 0.4687 - accuracy: 0.7972 - val_loss: 0.4615 - val_accuracy: 0.7975\n",
      "Epoch 3/100\n",
      "200/200 [==============================] - 0s 472us/step - loss: 0.4483 - accuracy: 0.7984 - val_loss: 0.4486 - val_accuracy: 0.7994\n",
      "Epoch 4/100\n",
      "200/200 [==============================] - 0s 460us/step - loss: 0.4364 - accuracy: 0.8023 - val_loss: 0.4396 - val_accuracy: 0.8025\n",
      "Epoch 5/100\n",
      "200/200 [==============================] - 0s 481us/step - loss: 0.4278 - accuracy: 0.8089 - val_loss: 0.4308 - val_accuracy: 0.8131\n",
      "Epoch 6/100\n",
      "200/200 [==============================] - 0s 479us/step - loss: 0.4191 - accuracy: 0.8164 - val_loss: 0.4211 - val_accuracy: 0.8206\n",
      "Epoch 7/100\n",
      "200/200 [==============================] - 0s 483us/step - loss: 0.4107 - accuracy: 0.8253 - val_loss: 0.4109 - val_accuracy: 0.8250\n",
      "Epoch 8/100\n",
      "200/200 [==============================] - 0s 535us/step - loss: 0.4012 - accuracy: 0.8284 - val_loss: 0.4012 - val_accuracy: 0.8238\n",
      "Epoch 9/100\n",
      "200/200 [==============================] - 0s 567us/step - loss: 0.3916 - accuracy: 0.8342 - val_loss: 0.3909 - val_accuracy: 0.8300\n",
      "Epoch 10/100\n",
      "200/200 [==============================] - 0s 658us/step - loss: 0.3815 - accuracy: 0.8389 - val_loss: 0.3811 - val_accuracy: 0.8338\n",
      "Epoch 11/100\n",
      "200/200 [==============================] - 0s 486us/step - loss: 0.3718 - accuracy: 0.8441 - val_loss: 0.3736 - val_accuracy: 0.8406\n",
      "Epoch 12/100\n",
      "200/200 [==============================] - 0s 613us/step - loss: 0.3640 - accuracy: 0.8470 - val_loss: 0.3676 - val_accuracy: 0.8425\n",
      "Epoch 13/100\n",
      "200/200 [==============================] - 0s 524us/step - loss: 0.3587 - accuracy: 0.8548 - val_loss: 0.3612 - val_accuracy: 0.8531\n",
      "Epoch 14/100\n",
      "200/200 [==============================] - 0s 478us/step - loss: 0.3531 - accuracy: 0.8578 - val_loss: 0.3567 - val_accuracy: 0.8531\n",
      "Epoch 15/100\n",
      "200/200 [==============================] - 0s 454us/step - loss: 0.3487 - accuracy: 0.8587 - val_loss: 0.3537 - val_accuracy: 0.8531\n",
      "Epoch 16/100\n",
      "200/200 [==============================] - 0s 456us/step - loss: 0.3450 - accuracy: 0.8609 - val_loss: 0.3508 - val_accuracy: 0.8550\n",
      "Epoch 17/100\n",
      "200/200 [==============================] - 0s 514us/step - loss: 0.3425 - accuracy: 0.8628 - val_loss: 0.3473 - val_accuracy: 0.8562\n",
      "Epoch 18/100\n",
      "200/200 [==============================] - 0s 455us/step - loss: 0.3399 - accuracy: 0.8637 - val_loss: 0.3467 - val_accuracy: 0.8594\n",
      "Epoch 19/100\n",
      "200/200 [==============================] - 0s 462us/step - loss: 0.3391 - accuracy: 0.8642 - val_loss: 0.3442 - val_accuracy: 0.8550\n",
      "Epoch 20/100\n",
      "200/200 [==============================] - 0s 455us/step - loss: 0.3374 - accuracy: 0.8628 - val_loss: 0.3424 - val_accuracy: 0.8581\n",
      "Epoch 21/100\n",
      "200/200 [==============================] - 0s 453us/step - loss: 0.3363 - accuracy: 0.8645 - val_loss: 0.3455 - val_accuracy: 0.8544\n",
      "Epoch 22/100\n",
      "200/200 [==============================] - 0s 461us/step - loss: 0.3354 - accuracy: 0.8650 - val_loss: 0.3477 - val_accuracy: 0.8556\n",
      "Epoch 23/100\n",
      "200/200 [==============================] - 0s 520us/step - loss: 0.3352 - accuracy: 0.8662 - val_loss: 0.3424 - val_accuracy: 0.8556\n",
      "Epoch 24/100\n",
      "200/200 [==============================] - 0s 624us/step - loss: 0.3341 - accuracy: 0.8645 - val_loss: 0.3422 - val_accuracy: 0.8550\n",
      "Epoch 25/100\n",
      "200/200 [==============================] - 0s 464us/step - loss: 0.3334 - accuracy: 0.8656 - val_loss: 0.3409 - val_accuracy: 0.8550\n",
      "Epoch 26/100\n",
      "200/200 [==============================] - 0s 460us/step - loss: 0.3323 - accuracy: 0.8666 - val_loss: 0.3415 - val_accuracy: 0.8556\n",
      "Epoch 27/100\n",
      "200/200 [==============================] - 0s 463us/step - loss: 0.3318 - accuracy: 0.8652 - val_loss: 0.3423 - val_accuracy: 0.8544\n",
      "Epoch 28/100\n",
      "200/200 [==============================] - 0s 492us/step - loss: 0.3323 - accuracy: 0.8675 - val_loss: 0.3395 - val_accuracy: 0.8537\n",
      "Epoch 29/100\n",
      "200/200 [==============================] - 0s 478us/step - loss: 0.3306 - accuracy: 0.8664 - val_loss: 0.3407 - val_accuracy: 0.8556\n",
      "Epoch 30/100\n",
      "200/200 [==============================] - 0s 461us/step - loss: 0.3308 - accuracy: 0.8661 - val_loss: 0.3408 - val_accuracy: 0.8544\n",
      "Epoch 31/100\n",
      "200/200 [==============================] - 0s 455us/step - loss: 0.3303 - accuracy: 0.8680 - val_loss: 0.3396 - val_accuracy: 0.8544\n",
      "Epoch 32/100\n",
      "200/200 [==============================] - 0s 455us/step - loss: 0.3300 - accuracy: 0.8661 - val_loss: 0.3424 - val_accuracy: 0.8531\n",
      "Epoch 33/100\n",
      "200/200 [==============================] - 0s 497us/step - loss: 0.3295 - accuracy: 0.8680 - val_loss: 0.3413 - val_accuracy: 0.8537\n",
      "Epoch 34/100\n",
      "200/200 [==============================] - 0s 452us/step - loss: 0.3290 - accuracy: 0.8670 - val_loss: 0.3406 - val_accuracy: 0.8562\n",
      "Epoch 35/100\n",
      "200/200 [==============================] - 0s 450us/step - loss: 0.3289 - accuracy: 0.8648 - val_loss: 0.3421 - val_accuracy: 0.8556\n",
      "Epoch 36/100\n",
      "200/200 [==============================] - 0s 452us/step - loss: 0.3282 - accuracy: 0.8656 - val_loss: 0.3405 - val_accuracy: 0.8575\n",
      "Epoch 37/100\n",
      "200/200 [==============================] - 0s 523us/step - loss: 0.3281 - accuracy: 0.8661 - val_loss: 0.3435 - val_accuracy: 0.8544\n",
      "Epoch 38/100\n",
      "200/200 [==============================] - 0s 504us/step - loss: 0.3273 - accuracy: 0.8655 - val_loss: 0.3451 - val_accuracy: 0.8544\n",
      "Epoch 39/100\n",
      "200/200 [==============================] - 0s 460us/step - loss: 0.3275 - accuracy: 0.8673 - val_loss: 0.3431 - val_accuracy: 0.8531\n",
      "Epoch 40/100\n",
      "200/200 [==============================] - 0s 484us/step - loss: 0.3268 - accuracy: 0.8650 - val_loss: 0.3430 - val_accuracy: 0.8562\n",
      "Epoch 41/100\n",
      "200/200 [==============================] - 0s 460us/step - loss: 0.3268 - accuracy: 0.8661 - val_loss: 0.3432 - val_accuracy: 0.8512\n",
      "Epoch 42/100\n",
      "200/200 [==============================] - 0s 452us/step - loss: 0.3264 - accuracy: 0.8661 - val_loss: 0.3431 - val_accuracy: 0.8531\n",
      "Epoch 43/100\n",
      "200/200 [==============================] - 0s 479us/step - loss: 0.3262 - accuracy: 0.8652 - val_loss: 0.3449 - val_accuracy: 0.8531\n",
      "Epoch 44/100\n",
      "200/200 [==============================] - 0s 492us/step - loss: 0.3263 - accuracy: 0.8655 - val_loss: 0.3422 - val_accuracy: 0.8525\n",
      "Epoch 45/100\n",
      "200/200 [==============================] - 0s 504us/step - loss: 0.3259 - accuracy: 0.8652 - val_loss: 0.3425 - val_accuracy: 0.8512\n",
      "Epoch 46/100\n",
      "200/200 [==============================] - 0s 464us/step - loss: 0.3252 - accuracy: 0.8653 - val_loss: 0.3438 - val_accuracy: 0.8544\n",
      "Epoch 47/100\n",
      "200/200 [==============================] - 0s 473us/step - loss: 0.3254 - accuracy: 0.8662 - val_loss: 0.3439 - val_accuracy: 0.8506\n",
      "Epoch 48/100\n",
      "200/200 [==============================] - 0s 481us/step - loss: 0.3254 - accuracy: 0.8667 - val_loss: 0.3425 - val_accuracy: 0.8537\n",
      "Epoch 49/100\n",
      "200/200 [==============================] - 0s 470us/step - loss: 0.3248 - accuracy: 0.8667 - val_loss: 0.3434 - val_accuracy: 0.8494\n",
      "Epoch 50/100\n",
      "200/200 [==============================] - 0s 513us/step - loss: 0.3248 - accuracy: 0.8653 - val_loss: 0.3439 - val_accuracy: 0.8519\n",
      "Epoch 51/100\n",
      "200/200 [==============================] - 0s 469us/step - loss: 0.3250 - accuracy: 0.8661 - val_loss: 0.3439 - val_accuracy: 0.8500\n",
      "Epoch 52/100\n",
      "200/200 [==============================] - 0s 477us/step - loss: 0.3243 - accuracy: 0.8675 - val_loss: 0.3430 - val_accuracy: 0.8506\n",
      "Epoch 53/100\n",
      "200/200 [==============================] - 0s 459us/step - loss: 0.3239 - accuracy: 0.8670 - val_loss: 0.3440 - val_accuracy: 0.8506\n",
      "Epoch 54/100\n",
      "200/200 [==============================] - 0s 477us/step - loss: 0.3238 - accuracy: 0.8662 - val_loss: 0.3427 - val_accuracy: 0.8506\n",
      "Epoch 55/100\n",
      "200/200 [==============================] - 0s 494us/step - loss: 0.3240 - accuracy: 0.8666 - val_loss: 0.3438 - val_accuracy: 0.8506\n",
      "Epoch 56/100\n",
      "200/200 [==============================] - 0s 472us/step - loss: 0.3234 - accuracy: 0.8678 - val_loss: 0.3453 - val_accuracy: 0.8500\n",
      "Epoch 57/100\n",
      "200/200 [==============================] - 0s 465us/step - loss: 0.3233 - accuracy: 0.8675 - val_loss: 0.3437 - val_accuracy: 0.8519\n",
      "Epoch 58/100\n",
      "200/200 [==============================] - 0s 491us/step - loss: 0.3235 - accuracy: 0.8659 - val_loss: 0.3424 - val_accuracy: 0.8506\n",
      "Epoch 59/100\n",
      "200/200 [==============================] - 0s 474us/step - loss: 0.3230 - accuracy: 0.8664 - val_loss: 0.3445 - val_accuracy: 0.8519\n",
      "Epoch 60/100\n",
      "200/200 [==============================] - 0s 475us/step - loss: 0.3231 - accuracy: 0.8684 - val_loss: 0.3445 - val_accuracy: 0.8531\n",
      "Epoch 61/100\n",
      "200/200 [==============================] - 0s 474us/step - loss: 0.3228 - accuracy: 0.8684 - val_loss: 0.3446 - val_accuracy: 0.8512\n",
      "Epoch 62/100\n",
      "200/200 [==============================] - 0s 467us/step - loss: 0.3231 - accuracy: 0.8687 - val_loss: 0.3445 - val_accuracy: 0.8519\n",
      "Epoch 63/100\n",
      "200/200 [==============================] - 0s 493us/step - loss: 0.3223 - accuracy: 0.8680 - val_loss: 0.3446 - val_accuracy: 0.8500\n",
      "Epoch 64/100\n",
      "200/200 [==============================] - 0s 478us/step - loss: 0.3222 - accuracy: 0.8684 - val_loss: 0.3440 - val_accuracy: 0.8537\n",
      "Epoch 65/100\n",
      "200/200 [==============================] - 0s 471us/step - loss: 0.3222 - accuracy: 0.8672 - val_loss: 0.3430 - val_accuracy: 0.8537\n",
      "Epoch 66/100\n",
      "200/200 [==============================] - 0s 471us/step - loss: 0.3220 - accuracy: 0.8673 - val_loss: 0.3437 - val_accuracy: 0.8531\n",
      "Epoch 67/100\n",
      "200/200 [==============================] - 0s 462us/step - loss: 0.3224 - accuracy: 0.8672 - val_loss: 0.3447 - val_accuracy: 0.8519\n",
      "Epoch 68/100\n",
      "200/200 [==============================] - 0s 474us/step - loss: 0.3223 - accuracy: 0.8683 - val_loss: 0.3448 - val_accuracy: 0.8519\n",
      "Epoch 69/100\n",
      "200/200 [==============================] - 0s 479us/step - loss: 0.3222 - accuracy: 0.8669 - val_loss: 0.3439 - val_accuracy: 0.8544\n",
      "Epoch 70/100\n",
      "200/200 [==============================] - 0s 464us/step - loss: 0.3216 - accuracy: 0.8673 - val_loss: 0.3443 - val_accuracy: 0.8519\n",
      "Epoch 71/100\n",
      "200/200 [==============================] - 0s 477us/step - loss: 0.3217 - accuracy: 0.8661 - val_loss: 0.3449 - val_accuracy: 0.8487\n",
      "Epoch 72/100\n",
      "200/200 [==============================] - 0s 465us/step - loss: 0.3217 - accuracy: 0.8677 - val_loss: 0.3462 - val_accuracy: 0.8506\n",
      "Epoch 73/100\n",
      "200/200 [==============================] - 0s 463us/step - loss: 0.3210 - accuracy: 0.8684 - val_loss: 0.3446 - val_accuracy: 0.8525\n",
      "Epoch 74/100\n",
      "200/200 [==============================] - 0s 506us/step - loss: 0.3211 - accuracy: 0.8692 - val_loss: 0.3443 - val_accuracy: 0.8512\n",
      "Epoch 75/100\n",
      "200/200 [==============================] - 0s 486us/step - loss: 0.3210 - accuracy: 0.8680 - val_loss: 0.3444 - val_accuracy: 0.8525\n",
      "Epoch 76/100\n",
      "200/200 [==============================] - 0s 477us/step - loss: 0.3208 - accuracy: 0.8692 - val_loss: 0.3452 - val_accuracy: 0.8512\n",
      "Epoch 77/100\n",
      "200/200 [==============================] - 0s 467us/step - loss: 0.3208 - accuracy: 0.8673 - val_loss: 0.3464 - val_accuracy: 0.8512\n",
      "Epoch 78/100\n",
      "200/200 [==============================] - 0s 466us/step - loss: 0.3204 - accuracy: 0.8677 - val_loss: 0.3494 - val_accuracy: 0.8475\n",
      "Epoch 79/100\n",
      "200/200 [==============================] - 0s 465us/step - loss: 0.3201 - accuracy: 0.8687 - val_loss: 0.3452 - val_accuracy: 0.8494\n",
      "Epoch 80/100\n",
      "200/200 [==============================] - 0s 543us/step - loss: 0.3203 - accuracy: 0.8669 - val_loss: 0.3462 - val_accuracy: 0.8500\n",
      "Epoch 81/100\n",
      "200/200 [==============================] - 0s 478us/step - loss: 0.3202 - accuracy: 0.8680 - val_loss: 0.3466 - val_accuracy: 0.8481\n",
      "Epoch 82/100\n",
      "200/200 [==============================] - 0s 463us/step - loss: 0.3201 - accuracy: 0.8689 - val_loss: 0.3460 - val_accuracy: 0.8481\n",
      "Epoch 83/100\n",
      "200/200 [==============================] - 0s 469us/step - loss: 0.3198 - accuracy: 0.8664 - val_loss: 0.3473 - val_accuracy: 0.8519\n",
      "Epoch 84/100\n",
      "200/200 [==============================] - 0s 470us/step - loss: 0.3202 - accuracy: 0.8684 - val_loss: 0.3456 - val_accuracy: 0.8500\n",
      "Epoch 85/100\n",
      "200/200 [==============================] - 0s 735us/step - loss: 0.3202 - accuracy: 0.8672 - val_loss: 0.3452 - val_accuracy: 0.8525\n",
      "Epoch 86/100\n",
      "200/200 [==============================] - 0s 502us/step - loss: 0.3194 - accuracy: 0.8695 - val_loss: 0.3459 - val_accuracy: 0.8462\n",
      "Epoch 87/100\n",
      "200/200 [==============================] - 0s 470us/step - loss: 0.3198 - accuracy: 0.8687 - val_loss: 0.3458 - val_accuracy: 0.8494\n",
      "Epoch 88/100\n",
      "200/200 [==============================] - 0s 467us/step - loss: 0.3192 - accuracy: 0.8692 - val_loss: 0.3443 - val_accuracy: 0.8512\n",
      "Epoch 89/100\n",
      "200/200 [==============================] - 0s 476us/step - loss: 0.3195 - accuracy: 0.8692 - val_loss: 0.3452 - val_accuracy: 0.8500\n",
      "Epoch 90/100\n",
      "200/200 [==============================] - 0s 470us/step - loss: 0.3197 - accuracy: 0.8684 - val_loss: 0.3456 - val_accuracy: 0.8506\n",
      "Epoch 91/100\n",
      "200/200 [==============================] - 0s 483us/step - loss: 0.3191 - accuracy: 0.8698 - val_loss: 0.3454 - val_accuracy: 0.8500\n",
      "Epoch 92/100\n",
      "200/200 [==============================] - 0s 471us/step - loss: 0.3189 - accuracy: 0.8698 - val_loss: 0.3446 - val_accuracy: 0.8519\n",
      "Epoch 93/100\n",
      "200/200 [==============================] - 0s 467us/step - loss: 0.3196 - accuracy: 0.8683 - val_loss: 0.3444 - val_accuracy: 0.8494\n",
      "Epoch 94/100\n",
      "200/200 [==============================] - 0s 471us/step - loss: 0.3190 - accuracy: 0.8681 - val_loss: 0.3466 - val_accuracy: 0.8487\n",
      "Epoch 95/100\n",
      "200/200 [==============================] - 0s 477us/step - loss: 0.3188 - accuracy: 0.8683 - val_loss: 0.3461 - val_accuracy: 0.8500\n",
      "Epoch 96/100\n",
      "200/200 [==============================] - 0s 486us/step - loss: 0.3188 - accuracy: 0.8683 - val_loss: 0.3445 - val_accuracy: 0.8500\n",
      "Epoch 97/100\n",
      "200/200 [==============================] - 0s 469us/step - loss: 0.3185 - accuracy: 0.8678 - val_loss: 0.3446 - val_accuracy: 0.8487\n",
      "Epoch 98/100\n",
      "200/200 [==============================] - 0s 507us/step - loss: 0.3184 - accuracy: 0.8683 - val_loss: 0.3448 - val_accuracy: 0.8487\n",
      "Epoch 99/100\n",
      "200/200 [==============================] - 0s 466us/step - loss: 0.3187 - accuracy: 0.8689 - val_loss: 0.3458 - val_accuracy: 0.8519\n",
      "Epoch 100/100\n",
      "200/200 [==============================] - 0s 474us/step - loss: 0.3185 - accuracy: 0.8683 - val_loss: 0.3448 - val_accuracy: 0.8487\n"
     ]
    }
   ],
   "source": [
    "history = model.fit(X_train_scaled,y_train, epochs=100, validation_split= 0.2)"
   ]
  },
  {
   "cell_type": "code",
   "execution_count": 96,
   "metadata": {},
   "outputs": [
    {
     "data": {
      "text/plain": [
       "[array([[ 8.84556696e-02, -1.96091384e-01,  3.44588101e-01,\n",
       "          6.95544407e-02,  5.03928244e-01, -2.27577582e-01,\n",
       "         -5.86856782e-01,  3.12179059e-01, -1.06925361e-01,\n",
       "         -1.65006086e-01, -2.37189129e-01],\n",
       "        [-2.76063025e-01, -1.46535158e-01, -3.25480534e-04,\n",
       "          7.22874820e-01,  3.76050144e-01, -5.67886293e-01,\n",
       "         -5.28109550e-01, -4.71899480e-01,  1.29286301e+00,\n",
       "          2.10890127e-03,  4.72178072e-01],\n",
       "        [ 1.04132533e-01, -5.10773920e-02, -9.71254587e-01,\n",
       "          9.24241319e-02,  1.79150760e-01,  1.13781780e-01,\n",
       "          1.33549690e-01,  3.66829336e-02,  2.54042465e-02,\n",
       "          7.03048855e-02,  1.41918972e-01],\n",
       "        [ 1.71225965e-01,  5.84522970e-02, -3.16244185e-01,\n",
       "          3.46299410e-02, -4.71660107e-01, -4.25825417e-01,\n",
       "          9.06810641e-01,  7.59859830e-02, -1.25122089e-02,\n",
       "          9.92302597e-02, -7.39389777e-01],\n",
       "        [-1.32654727e+00, -1.32094479e+00, -2.99173743e-01,\n",
       "         -2.50979900e-01,  4.17433798e-01,  3.46390158e-01,\n",
       "         -1.19993724e-01, -5.59580088e-01, -1.44701362e-01,\n",
       "          8.40182722e-01,  6.15625232e-02],\n",
       "        [-3.31238627e-01,  5.65645695e-02,  3.67071509e-01,\n",
       "          1.78182349e-01, -1.28182411e-01,  4.25410926e-01,\n",
       "         -6.49174824e-02, -3.44331354e-01, -5.57872141e-03,\n",
       "          4.67416234e-02, -5.36748707e-01],\n",
       "        [ 4.71166186e-02,  3.33108932e-01,  1.06250055e-01,\n",
       "          7.11961448e-01, -5.49818516e-01,  3.49616706e-01,\n",
       "          5.71092784e-01,  1.72423542e-01,  1.32592753e-01,\n",
       "          1.63700148e-01,  4.41247851e-01],\n",
       "        [ 9.06557590e-02, -7.84320533e-02,  1.13317266e-01,\n",
       "          8.31843987e-02,  4.30055737e-01,  3.56528312e-02,\n",
       "          2.04623550e-01,  4.52080891e-02, -1.65761414e-03,\n",
       "          4.44465689e-02,  1.07412465e-01],\n",
       "        [-2.75946975e-01, -3.31533015e-01, -1.34653062e-01,\n",
       "         -1.11679554e-01,  6.74857557e-01, -3.45638275e-01,\n",
       "          2.53692240e-01, -3.23432446e-01, -3.92113626e-02,\n",
       "         -1.70451805e-01, -1.23745166e-02],\n",
       "        [-1.92472860e-01,  1.82830244e-01,  1.60699591e-01,\n",
       "          1.11639075e-01, -1.35802776e-01, -7.26071745e-02,\n",
       "         -3.15787107e-01, -3.84560823e-01,  6.78198040e-02,\n",
       "         -1.55739179e-02, -2.45712083e-02],\n",
       "        [ 3.01512539e-01, -6.38405830e-02, -3.24281484e-01,\n",
       "          1.08990166e-02, -3.16578567e-01,  4.00845498e-01,\n",
       "          6.31669164e-02,  2.14556649e-01,  4.43307310e-03,\n",
       "          3.00749261e-02,  2.14761108e-01]], dtype=float32),\n",
       " array([ 0.13536072,  0.17325094,  0.46284276, -0.6938147 ,  0.7939811 ,\n",
       "         0.73758566, -0.01794247,  0.2537225 , -0.05595247, -0.60890126,\n",
       "         0.06222678], dtype=float32)]"
      ]
     },
     "execution_count": 96,
     "metadata": {},
     "output_type": "execute_result"
    }
   ],
   "source": [
    "model.layers[0].get_weights()"
   ]
  },
  {
   "cell_type": "code",
   "execution_count": 97,
   "metadata": {},
   "outputs": [
    {
     "data": {
      "text/plain": [
       "[array([[-0.36090246,  0.05684119, -0.52176225, -0.17889142, -0.51700777,\n",
       "         -0.15024169, -0.0267525 , -1.6998044 ,  0.1243014 , -0.3379449 ,\n",
       "          0.10647663],\n",
       "        [ 0.16050503,  0.40830198, -0.6307197 , -0.8648092 , -0.6100349 ,\n",
       "          0.44212404, -0.27863356, -0.52300954,  0.08223382, -0.4224405 ,\n",
       "          0.654084  ],\n",
       "        [ 0.37627026,  0.0196294 , -0.07445567,  0.18850084, -0.26904887,\n",
       "         -0.09275717, -0.00850743,  0.06372588,  0.3892351 ,  0.5124172 ,\n",
       "         -0.3172579 ],\n",
       "        [-1.1420118 ,  0.940449  ,  0.02847642,  0.4037941 ,  0.5671963 ,\n",
       "          1.0125043 , -0.03400729,  0.16878939, -0.00620387,  0.0171064 ,\n",
       "         -0.4024229 ],\n",
       "        [ 0.9316022 ,  0.1598672 ,  0.4320507 , -0.0287663 , -0.12149573,\n",
       "         -0.24845427, -0.05666081,  0.11499838,  0.2640624 ,  0.32773024,\n",
       "          0.02027221],\n",
       "        [ 0.70005697,  0.25034457,  0.25776365, -0.39752302,  0.59811187,\n",
       "         -0.28936577,  0.3575107 ,  0.4518658 ,  0.2383465 ,  0.14897764,\n",
       "          0.47447866],\n",
       "        [ 0.08777255, -0.03948722,  0.20863423, -1.0267563 ,  0.73941535,\n",
       "         -0.0505137 ,  0.21144782,  0.04426913, -0.03950869,  0.47788477,\n",
       "         -0.48272672],\n",
       "        [-0.2776729 , -0.14763726, -0.3714669 ,  0.32403666,  0.09624614,\n",
       "          0.5127443 ,  0.19832546, -0.04412387,  0.44314557,  0.13663618,\n",
       "         -0.32403988],\n",
       "        [ 0.4818029 , -0.24313438, -0.41794804, -0.95548004,  0.28871608,\n",
       "          0.43445912, -0.08911058,  0.18984589, -0.727761  , -0.6101559 ,\n",
       "         -0.31940392],\n",
       "        [ 0.86657584, -0.2790135 , -0.61011344,  0.01645828, -0.5067729 ,\n",
       "         -0.13059445, -0.08969281, -0.4953897 , -0.546603  , -0.8459637 ,\n",
       "         -0.23378232],\n",
       "        [ 0.35546032,  0.00648832,  0.58593416, -0.47443998,  0.34186587,\n",
       "         -0.22500272, -0.153858  ,  0.51461875,  0.10196807,  0.05849481,\n",
       "         -0.36140364]], dtype=float32),\n",
       " array([ 0.16936876,  0.1367372 ,  0.50938046,  0.2151637 , -0.13688706,\n",
       "        -0.16298647,  0.11319844,  0.21709196,  0.3205903 ,  0.16447318,\n",
       "         0.5278897 ], dtype=float32)]"
      ]
     },
     "execution_count": 97,
     "metadata": {},
     "output_type": "execute_result"
    }
   ],
   "source": [
    "model.layers[1].get_weights()"
   ]
  },
  {
   "cell_type": "code",
   "execution_count": 98,
   "metadata": {},
   "outputs": [
    {
     "name": "stdout",
     "output_type": "stream",
     "text": [
      "63/63 [==============================] - 0s 305us/step\n"
     ]
    }
   ],
   "source": [
    "y_log = model.predict(X_test_scaled)"
   ]
  },
  {
   "cell_type": "code",
   "execution_count": 99,
   "metadata": {},
   "outputs": [],
   "source": [
    "y_pred = np.where(y_log > 0.5, 1, 0)"
   ]
  },
  {
   "cell_type": "code",
   "execution_count": 100,
   "metadata": {},
   "outputs": [],
   "source": [
    "from sklearn.metrics import accuracy_score"
   ]
  },
  {
   "cell_type": "code",
   "execution_count": 101,
   "metadata": {},
   "outputs": [
    {
     "data": {
      "text/plain": [
       "0.865"
      ]
     },
     "execution_count": 101,
     "metadata": {},
     "output_type": "execute_result"
    }
   ],
   "source": [
    "accuracy_score(y_test,y_pred)"
   ]
  },
  {
   "cell_type": "code",
   "execution_count": 102,
   "metadata": {},
   "outputs": [
    {
     "data": {
      "text/plain": [
       "[<matplotlib.lines.Line2D at 0x289e4fb20>]"
      ]
     },
     "execution_count": 102,
     "metadata": {},
     "output_type": "execute_result"
    },
    {
     "data": {
      "image/png": "[encoded data removed]",
      "text/plain": [
       "<Figure size 640x480 with 1 Axes>"
      ]
     },
     "metadata": {},
     "output_type": "display_data"
    }
   ],
   "source": [
    "import matplotlib.pyplot as plt\n",
    "\n",
    "plt.plot(history.history['loss'])\n",
    "plt.plot(history.history['val_loss'])"
   ]
  },
  {
   "cell_type": "code",
   "execution_count": 106,
   "metadata": {},
   "outputs": [
    {
     "data": {
      "text/plain": [
       "<matplotlib.legend.Legend at 0x2890b33a0>"
      ]
     },
     "execution_count": 106,
     "metadata": {},
     "output_type": "execute_result"
    },
    {
     "data": {
      "image/png": "[encoded data removed]",
      "text/plain": [
       "<Figure size 640x480 with 1 Axes>"
      ]
     },
     "metadata": {},
     "output_type": "display_data"
    }
   ],
   "source": [
    "plt.plot(history.history['accuracy'], label = 'Accuracy')\n",
    "plt.plot(history.history['val_accuracy'], label = 'Validation Accuracy')\n",
    "\n",
    "plt.legend()\n"
   ]
  },
  {
   "cell_type": "code",
   "execution_count": null,
   "metadata": {},
   "outputs": [],
   "source": []
  }
 ],
 "metadata": {
  "kernelspec": {
   "display_name": "adv_ds",
   "language": "python",
   "name": "python3"
  },
  "language_info": {
   "codemirror_mode": {
    "name": "ipython",
    "version": 3
   },
   "file_extension": ".py",
   "mimetype": "text/x-python",
   "name": "python",
   "nbconvert_exporter": "python",
   "pygments_lexer": "ipython3",
   "version": "3.10.9"
  },
  "orig_nbformat": 4
 },
 "nbformat": 4,
 "nbformat_minor": 2
}

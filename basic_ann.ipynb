{
 "cells": [
  {
   "cell_type": "code",
   "execution_count": 73,
   "metadata": {},
   "outputs": [],
   "source": [
    "import pandas as pd\n",
    "import numpy as np"
   ]
  },
  {
   "cell_type": "code",
   "execution_count": 74,
   "metadata": {},
   "outputs": [],
   "source": [
    "df = pd.read_csv('./data/Churn_Modelling.csv')"
   ]
  },
  {
   "cell_type": "code",
   "execution_count": 75,
   "metadata": {},
   "outputs": [
    {
     "data": {
      "text/html": [
       "<div>\n",
       "<style scoped>\n",
       "    .dataframe tbody tr th:only-of-type {\n",
       "        vertical-align: middle;\n",
       "    }\n",
       "\n",
       "    .dataframe tbody tr th {\n",
       "        vertical-align: top;\n",
       "    }\n",
       "\n",
       "    .dataframe thead th {\n",
       "        text-align: right;\n",
       "    }\n",
       "</style>\n",
       "<table border=\"1\" class=\"dataframe\">\n",
       "  <thead>\n",
       "    <tr style=\"text-align: right;\">\n",
       "      <th></th>\n",
       "      <th>RowNumber</th>\n",
       "      <th>CustomerId</th>\n",
       "      <th>Surname</th>\n",
       "      <th>CreditScore</th>\n",
       "      <th>Geography</th>\n",
       "      <th>Gender</th>\n",
       "      <th>Age</th>\n",
       "      <th>Tenure</th>\n",
       "      <th>Balance</th>\n",
       "      <th>NumOfProducts</th>\n",
       "      <th>HasCrCard</th>\n",
       "      <th>IsActiveMember</th>\n",
       "      <th>EstimatedSalary</th>\n",
       "      <th>Exited</th>\n",
       "    </tr>\n",
       "  </thead>\n",
       "  <tbody>\n",
       "    <tr>\n",
       "      <th>0</th>\n",
       "      <td>1</td>\n",
       "      <td>15634602</td>\n",
       "      <td>Hargrave</td>\n",
       "      <td>619</td>\n",
       "      <td>France</td>\n",
       "      <td>Female</td>\n",
       "      <td>42</td>\n",
       "      <td>2</td>\n",
       "      <td>0.00</td>\n",
       "      <td>1</td>\n",
       "      <td>1</td>\n",
       "      <td>1</td>\n",
       "      <td>101348.88</td>\n",
       "      <td>1</td>\n",
       "    </tr>\n",
       "    <tr>\n",
       "      <th>1</th>\n",
       "      <td>2</td>\n",
       "      <td>15647311</td>\n",
       "      <td>Hill</td>\n",
       "      <td>608</td>\n",
       "      <td>Spain</td>\n",
       "      <td>Female</td>\n",
       "      <td>41</td>\n",
       "      <td>1</td>\n",
       "      <td>83807.86</td>\n",
       "      <td>1</td>\n",
       "      <td>0</td>\n",
       "      <td>1</td>\n",
       "      <td>112542.58</td>\n",
       "      <td>0</td>\n",
       "    </tr>\n",
       "    <tr>\n",
       "      <th>2</th>\n",
       "      <td>3</td>\n",
       "      <td>15619304</td>\n",
       "      <td>Onio</td>\n",
       "      <td>502</td>\n",
       "      <td>France</td>\n",
       "      <td>Female</td>\n",
       "      <td>42</td>\n",
       "      <td>8</td>\n",
       "      <td>159660.80</td>\n",
       "      <td>3</td>\n",
       "      <td>1</td>\n",
       "      <td>0</td>\n",
       "      <td>113931.57</td>\n",
       "      <td>1</td>\n",
       "    </tr>\n",
       "    <tr>\n",
       "      <th>3</th>\n",
       "      <td>4</td>\n",
       "      <td>15701354</td>\n",
       "      <td>Boni</td>\n",
       "      <td>699</td>\n",
       "      <td>France</td>\n",
       "      <td>Female</td>\n",
       "      <td>39</td>\n",
       "      <td>1</td>\n",
       "      <td>0.00</td>\n",
       "      <td>2</td>\n",
       "      <td>0</td>\n",
       "      <td>0</td>\n",
       "      <td>93826.63</td>\n",
       "      <td>0</td>\n",
       "    </tr>\n",
       "    <tr>\n",
       "      <th>4</th>\n",
       "      <td>5</td>\n",
       "      <td>15737888</td>\n",
       "      <td>Mitchell</td>\n",
       "      <td>850</td>\n",
       "      <td>Spain</td>\n",
       "      <td>Female</td>\n",
       "      <td>43</td>\n",
       "      <td>2</td>\n",
       "      <td>125510.82</td>\n",
       "      <td>1</td>\n",
       "      <td>1</td>\n",
       "      <td>1</td>\n",
       "      <td>79084.10</td>\n",
       "      <td>0</td>\n",
       "    </tr>\n",
       "    <tr>\n",
       "      <th>...</th>\n",
       "      <td>...</td>\n",
       "      <td>...</td>\n",
       "      <td>...</td>\n",
       "      <td>...</td>\n",
       "      <td>...</td>\n",
       "      <td>...</td>\n",
       "      <td>...</td>\n",
       "      <td>...</td>\n",
       "      <td>...</td>\n",
       "      <td>...</td>\n",
       "      <td>...</td>\n",
       "      <td>...</td>\n",
       "      <td>...</td>\n",
       "      <td>...</td>\n",
       "    </tr>\n",
       "    <tr>\n",
       "      <th>9995</th>\n",
       "      <td>9996</td>\n",
       "      <td>15606229</td>\n",
       "      <td>Obijiaku</td>\n",
       "      <td>771</td>\n",
       "      <td>France</td>\n",
       "      <td>Male</td>\n",
       "      <td>39</td>\n",
       "      <td>5</td>\n",
       "      <td>0.00</td>\n",
       "      <td>2</td>\n",
       "      <td>1</td>\n",
       "      <td>0</td>\n",
       "      <td>96270.64</td>\n",
       "      <td>0</td>\n",
       "    </tr>\n",
       "    <tr>\n",
       "      <th>9996</th>\n",
       "      <td>9997</td>\n",
       "      <td>15569892</td>\n",
       "      <td>Johnstone</td>\n",
       "      <td>516</td>\n",
       "      <td>France</td>\n",
       "      <td>Male</td>\n",
       "      <td>35</td>\n",
       "      <td>10</td>\n",
       "      <td>57369.61</td>\n",
       "      <td>1</td>\n",
       "      <td>1</td>\n",
       "      <td>1</td>\n",
       "      <td>101699.77</td>\n",
       "      <td>0</td>\n",
       "    </tr>\n",
       "    <tr>\n",
       "      <th>9997</th>\n",
       "      <td>9998</td>\n",
       "      <td>15584532</td>\n",
       "      <td>Liu</td>\n",
       "      <td>709</td>\n",
       "      <td>France</td>\n",
       "      <td>Female</td>\n",
       "      <td>36</td>\n",
       "      <td>7</td>\n",
       "      <td>0.00</td>\n",
       "      <td>1</td>\n",
       "      <td>0</td>\n",
       "      <td>1</td>\n",
       "      <td>42085.58</td>\n",
       "      <td>1</td>\n",
       "    </tr>\n",
       "    <tr>\n",
       "      <th>9998</th>\n",
       "      <td>9999</td>\n",
       "      <td>15682355</td>\n",
       "      <td>Sabbatini</td>\n",
       "      <td>772</td>\n",
       "      <td>Germany</td>\n",
       "      <td>Male</td>\n",
       "      <td>42</td>\n",
       "      <td>3</td>\n",
       "      <td>75075.31</td>\n",
       "      <td>2</td>\n",
       "      <td>1</td>\n",
       "      <td>0</td>\n",
       "      <td>92888.52</td>\n",
       "      <td>1</td>\n",
       "    </tr>\n",
       "    <tr>\n",
       "      <th>9999</th>\n",
       "      <td>10000</td>\n",
       "      <td>15628319</td>\n",
       "      <td>Walker</td>\n",
       "      <td>792</td>\n",
       "      <td>France</td>\n",
       "      <td>Female</td>\n",
       "      <td>28</td>\n",
       "      <td>4</td>\n",
       "      <td>130142.79</td>\n",
       "      <td>1</td>\n",
       "      <td>1</td>\n",
       "      <td>0</td>\n",
       "      <td>38190.78</td>\n",
       "      <td>0</td>\n",
       "    </tr>\n",
       "  </tbody>\n",
       "</table>\n",
       "<p>10000 rows × 14 columns</p>\n",
       "</div>"
      ],
      "text/plain": [
       "      RowNumber  CustomerId    Surname  CreditScore Geography  Gender  Age  \\\n",
       "0             1    15634602   Hargrave          619    France  Female   42   \n",
       "1             2    15647311       Hill          608     Spain  Female   41   \n",
       "2             3    15619304       Onio          502    France  Female   42   \n",
       "3             4    15701354       Boni          699    France  Female   39   \n",
       "4             5    15737888   Mitchell          850     Spain  Female   43   \n",
       "...         ...         ...        ...          ...       ...     ...  ...   \n",
       "9995       9996    15606229   Obijiaku          771    France    Male   39   \n",
       "9996       9997    15569892  Johnstone          516    France    Male   35   \n",
       "9997       9998    15584532        Liu          709    France  Female   36   \n",
       "9998       9999    15682355  Sabbatini          772   Germany    Male   42   \n",
       "9999      10000    15628319     Walker          792    France  Female   28   \n",
       "\n",
       "      Tenure    Balance  NumOfProducts  HasCrCard  IsActiveMember  \\\n",
       "0          2       0.00              1          1               1   \n",
       "1          1   83807.86              1          0               1   \n",
       "2          8  159660.80              3          1               0   \n",
       "3          1       0.00              2          0               0   \n",
       "4          2  125510.82              1          1               1   \n",
       "...      ...        ...            ...        ...             ...   \n",
       "9995       5       0.00              2          1               0   \n",
       "9996      10   57369.61              1          1               1   \n",
       "9997       7       0.00              1          0               1   \n",
       "9998       3   75075.31              2          1               0   \n",
       "9999       4  130142.79              1          1               0   \n",
       "\n",
       "      EstimatedSalary  Exited  \n",
       "0           101348.88       1  \n",
       "1           112542.58       0  \n",
       "2           113931.57       1  \n",
       "3            93826.63       0  \n",
       "4            79084.10       0  \n",
       "...               ...     ...  \n",
       "9995         96270.64       0  \n",
       "9996        101699.77       0  \n",
       "9997         42085.58       1  \n",
       "9998         92888.52       1  \n",
       "9999         38190.78       0  \n",
       "\n",
       "[10000 rows x 14 columns]"
      ]
     },
     "execution_count": 75,
     "metadata": {},
     "output_type": "execute_result"
    }
   ],
   "source": [
    "df"
   ]
  },
  {
   "cell_type": "code",
   "execution_count": 76,
   "metadata": {},
   "outputs": [
    {
     "data": {
      "text/plain": [
       "(10000, 14)"
      ]
     },
     "execution_count": 76,
     "metadata": {},
     "output_type": "execute_result"
    }
   ],
   "source": [
    "df.shape"
   ]
  },
  {
   "cell_type": "code",
   "execution_count": 77,
   "metadata": {},
   "outputs": [
    {
     "name": "stdout",
     "output_type": "stream",
     "text": [
      "<class 'pandas.core.frame.DataFrame'>\n",
      "RangeIndex: 10000 entries, 0 to 9999\n",
      "Data columns (total 14 columns):\n",
      " #   Column           Non-Null Count  Dtype  \n",
      "---  ------           --------------  -----  \n",
      " 0   RowNumber        10000 non-null  int64  \n",
      " 1   CustomerId       10000 non-null  int64  \n",
      " 2   Surname          10000 non-null  object \n",
      " 3   CreditScore      10000 non-null  int64  \n",
      " 4   Geography        10000 non-null  object \n",
      " 5   Gender           10000 non-null  object \n",
      " 6   Age              10000 non-null  int64  \n",
      " 7   Tenure           10000 non-null  int64  \n",
      " 8   Balance          10000 non-null  float64\n",
      " 9   NumOfProducts    10000 non-null  int64  \n",
      " 10  HasCrCard        10000 non-null  int64  \n",
      " 11  IsActiveMember   10000 non-null  int64  \n",
      " 12  EstimatedSalary  10000 non-null  float64\n",
      " 13  Exited           10000 non-null  int64  \n",
      "dtypes: float64(2), int64(9), object(3)\n",
      "memory usage: 1.1+ MB\n"
     ]
    }
   ],
   "source": [
    "df.info()"
   ]
  },
  {
   "cell_type": "code",
   "execution_count": 78,
   "metadata": {},
   "outputs": [
    {
     "data": {
      "text/plain": [
       "0"
      ]
     },
     "execution_count": 78,
     "metadata": {},
     "output_type": "execute_result"
    }
   ],
   "source": [
    "df.duplicated().sum()"
   ]
  },
  {
   "cell_type": "code",
   "execution_count": 79,
   "metadata": {},
   "outputs": [
    {
     "data": {
      "text/plain": [
       "0    7963\n",
       "1    2037\n",
       "Name: Exited, dtype: int64"
      ]
     },
     "execution_count": 79,
     "metadata": {},
     "output_type": "execute_result"
    }
   ],
   "source": [
    "df['Exited'].value_counts()"
   ]
  },
  {
   "cell_type": "code",
   "execution_count": 80,
   "metadata": {},
   "outputs": [
    {
     "data": {
      "text/plain": [
       "France     5014\n",
       "Germany    2509\n",
       "Spain      2477\n",
       "Name: Geography, dtype: int64"
      ]
     },
     "execution_count": 80,
     "metadata": {},
     "output_type": "execute_result"
    }
   ],
   "source": [
    "df['Geography'].value_counts()"
   ]
  },
  {
   "cell_type": "code",
   "execution_count": 81,
   "metadata": {},
   "outputs": [
    {
     "data": {
      "text/plain": [
       "Male      5457\n",
       "Female    4543\n",
       "Name: Gender, dtype: int64"
      ]
     },
     "execution_count": 81,
     "metadata": {},
     "output_type": "execute_result"
    }
   ],
   "source": [
    "df['Gender'].value_counts()"
   ]
  },
  {
   "cell_type": "code",
   "execution_count": 82,
   "metadata": {},
   "outputs": [],
   "source": [
    "drop_cols = ['RowNumber','CustomerId','Surname']\n",
    "\n",
    "df.drop(columns=drop_cols, inplace=True)"
   ]
  },
  {
   "cell_type": "code",
   "execution_count": 83,
   "metadata": {},
   "outputs": [
    {
     "data": {
      "text/html": [
       "<div>\n",
       "<style scoped>\n",
       "    .dataframe tbody tr th:only-of-type {\n",
       "        vertical-align: middle;\n",
       "    }\n",
       "\n",
       "    .dataframe tbody tr th {\n",
       "        vertical-align: top;\n",
       "    }\n",
       "\n",
       "    .dataframe thead th {\n",
       "        text-align: right;\n",
       "    }\n",
       "</style>\n",
       "<table border=\"1\" class=\"dataframe\">\n",
       "  <thead>\n",
       "    <tr style=\"text-align: right;\">\n",
       "      <th></th>\n",
       "      <th>CreditScore</th>\n",
       "      <th>Geography</th>\n",
       "      <th>Gender</th>\n",
       "      <th>Age</th>\n",
       "      <th>Tenure</th>\n",
       "      <th>Balance</th>\n",
       "      <th>NumOfProducts</th>\n",
       "      <th>HasCrCard</th>\n",
       "      <th>IsActiveMember</th>\n",
       "      <th>EstimatedSalary</th>\n",
       "      <th>Exited</th>\n",
       "    </tr>\n",
       "  </thead>\n",
       "  <tbody>\n",
       "    <tr>\n",
       "      <th>0</th>\n",
       "      <td>619</td>\n",
       "      <td>France</td>\n",
       "      <td>Female</td>\n",
       "      <td>42</td>\n",
       "      <td>2</td>\n",
       "      <td>0.00</td>\n",
       "      <td>1</td>\n",
       "      <td>1</td>\n",
       "      <td>1</td>\n",
       "      <td>101348.88</td>\n",
       "      <td>1</td>\n",
       "    </tr>\n",
       "    <tr>\n",
       "      <th>1</th>\n",
       "      <td>608</td>\n",
       "      <td>Spain</td>\n",
       "      <td>Female</td>\n",
       "      <td>41</td>\n",
       "      <td>1</td>\n",
       "      <td>83807.86</td>\n",
       "      <td>1</td>\n",
       "      <td>0</td>\n",
       "      <td>1</td>\n",
       "      <td>112542.58</td>\n",
       "      <td>0</td>\n",
       "    </tr>\n",
       "    <tr>\n",
       "      <th>2</th>\n",
       "      <td>502</td>\n",
       "      <td>France</td>\n",
       "      <td>Female</td>\n",
       "      <td>42</td>\n",
       "      <td>8</td>\n",
       "      <td>159660.80</td>\n",
       "      <td>3</td>\n",
       "      <td>1</td>\n",
       "      <td>0</td>\n",
       "      <td>113931.57</td>\n",
       "      <td>1</td>\n",
       "    </tr>\n",
       "    <tr>\n",
       "      <th>3</th>\n",
       "      <td>699</td>\n",
       "      <td>France</td>\n",
       "      <td>Female</td>\n",
       "      <td>39</td>\n",
       "      <td>1</td>\n",
       "      <td>0.00</td>\n",
       "      <td>2</td>\n",
       "      <td>0</td>\n",
       "      <td>0</td>\n",
       "      <td>93826.63</td>\n",
       "      <td>0</td>\n",
       "    </tr>\n",
       "    <tr>\n",
       "      <th>4</th>\n",
       "      <td>850</td>\n",
       "      <td>Spain</td>\n",
       "      <td>Female</td>\n",
       "      <td>43</td>\n",
       "      <td>2</td>\n",
       "      <td>125510.82</td>\n",
       "      <td>1</td>\n",
       "      <td>1</td>\n",
       "      <td>1</td>\n",
       "      <td>79084.10</td>\n",
       "      <td>0</td>\n",
       "    </tr>\n",
       "  </tbody>\n",
       "</table>\n",
       "</div>"
      ],
      "text/plain": [
       "   CreditScore Geography  Gender  Age  Tenure    Balance  NumOfProducts  \\\n",
       "0          619    France  Female   42       2       0.00              1   \n",
       "1          608     Spain  Female   41       1   83807.86              1   \n",
       "2          502    France  Female   42       8  159660.80              3   \n",
       "3          699    France  Female   39       1       0.00              2   \n",
       "4          850     Spain  Female   43       2  125510.82              1   \n",
       "\n",
       "   HasCrCard  IsActiveMember  EstimatedSalary  Exited  \n",
       "0          1               1        101348.88       1  \n",
       "1          0               1        112542.58       0  \n",
       "2          1               0        113931.57       1  \n",
       "3          0               0         93826.63       0  \n",
       "4          1               1         79084.10       0  "
      ]
     },
     "execution_count": 83,
     "metadata": {},
     "output_type": "execute_result"
    }
   ],
   "source": [
    "df.head()"
   ]
  },
  {
   "cell_type": "code",
   "execution_count": 84,
   "metadata": {},
   "outputs": [],
   "source": [
    "df = pd.get_dummies(df,columns=['Geography','Gender'], drop_first=True)"
   ]
  },
  {
   "cell_type": "code",
   "execution_count": 85,
   "metadata": {},
   "outputs": [
    {
     "data": {
      "text/html": [
       "<div>\n",
       "<style scoped>\n",
       "    .dataframe tbody tr th:only-of-type {\n",
       "        vertical-align: middle;\n",
       "    }\n",
       "\n",
       "    .dataframe tbody tr th {\n",
       "        vertical-align: top;\n",
       "    }\n",
       "\n",
       "    .dataframe thead th {\n",
       "        text-align: right;\n",
       "    }\n",
       "</style>\n",
       "<table border=\"1\" class=\"dataframe\">\n",
       "  <thead>\n",
       "    <tr style=\"text-align: right;\">\n",
       "      <th></th>\n",
       "      <th>CreditScore</th>\n",
       "      <th>Age</th>\n",
       "      <th>Tenure</th>\n",
       "      <th>Balance</th>\n",
       "      <th>NumOfProducts</th>\n",
       "      <th>HasCrCard</th>\n",
       "      <th>IsActiveMember</th>\n",
       "      <th>EstimatedSalary</th>\n",
       "      <th>Exited</th>\n",
       "      <th>Geography_Germany</th>\n",
       "      <th>Geography_Spain</th>\n",
       "      <th>Gender_Male</th>\n",
       "    </tr>\n",
       "  </thead>\n",
       "  <tbody>\n",
       "    <tr>\n",
       "      <th>0</th>\n",
       "      <td>619</td>\n",
       "      <td>42</td>\n",
       "      <td>2</td>\n",
       "      <td>0.00</td>\n",
       "      <td>1</td>\n",
       "      <td>1</td>\n",
       "      <td>1</td>\n",
       "      <td>101348.88</td>\n",
       "      <td>1</td>\n",
       "      <td>0</td>\n",
       "      <td>0</td>\n",
       "      <td>0</td>\n",
       "    </tr>\n",
       "    <tr>\n",
       "      <th>1</th>\n",
       "      <td>608</td>\n",
       "      <td>41</td>\n",
       "      <td>1</td>\n",
       "      <td>83807.86</td>\n",
       "      <td>1</td>\n",
       "      <td>0</td>\n",
       "      <td>1</td>\n",
       "      <td>112542.58</td>\n",
       "      <td>0</td>\n",
       "      <td>0</td>\n",
       "      <td>1</td>\n",
       "      <td>0</td>\n",
       "    </tr>\n",
       "    <tr>\n",
       "      <th>2</th>\n",
       "      <td>502</td>\n",
       "      <td>42</td>\n",
       "      <td>8</td>\n",
       "      <td>159660.80</td>\n",
       "      <td>3</td>\n",
       "      <td>1</td>\n",
       "      <td>0</td>\n",
       "      <td>113931.57</td>\n",
       "      <td>1</td>\n",
       "      <td>0</td>\n",
       "      <td>0</td>\n",
       "      <td>0</td>\n",
       "    </tr>\n",
       "    <tr>\n",
       "      <th>3</th>\n",
       "      <td>699</td>\n",
       "      <td>39</td>\n",
       "      <td>1</td>\n",
       "      <td>0.00</td>\n",
       "      <td>2</td>\n",
       "      <td>0</td>\n",
       "      <td>0</td>\n",
       "      <td>93826.63</td>\n",
       "      <td>0</td>\n",
       "      <td>0</td>\n",
       "      <td>0</td>\n",
       "      <td>0</td>\n",
       "    </tr>\n",
       "    <tr>\n",
       "      <th>4</th>\n",
       "      <td>850</td>\n",
       "      <td>43</td>\n",
       "      <td>2</td>\n",
       "      <td>125510.82</td>\n",
       "      <td>1</td>\n",
       "      <td>1</td>\n",
       "      <td>1</td>\n",
       "      <td>79084.10</td>\n",
       "      <td>0</td>\n",
       "      <td>0</td>\n",
       "      <td>1</td>\n",
       "      <td>0</td>\n",
       "    </tr>\n",
       "    <tr>\n",
       "      <th>...</th>\n",
       "      <td>...</td>\n",
       "      <td>...</td>\n",
       "      <td>...</td>\n",
       "      <td>...</td>\n",
       "      <td>...</td>\n",
       "      <td>...</td>\n",
       "      <td>...</td>\n",
       "      <td>...</td>\n",
       "      <td>...</td>\n",
       "      <td>...</td>\n",
       "      <td>...</td>\n",
       "      <td>...</td>\n",
       "    </tr>\n",
       "    <tr>\n",
       "      <th>9995</th>\n",
       "      <td>771</td>\n",
       "      <td>39</td>\n",
       "      <td>5</td>\n",
       "      <td>0.00</td>\n",
       "      <td>2</td>\n",
       "      <td>1</td>\n",
       "      <td>0</td>\n",
       "      <td>96270.64</td>\n",
       "      <td>0</td>\n",
       "      <td>0</td>\n",
       "      <td>0</td>\n",
       "      <td>1</td>\n",
       "    </tr>\n",
       "    <tr>\n",
       "      <th>9996</th>\n",
       "      <td>516</td>\n",
       "      <td>35</td>\n",
       "      <td>10</td>\n",
       "      <td>57369.61</td>\n",
       "      <td>1</td>\n",
       "      <td>1</td>\n",
       "      <td>1</td>\n",
       "      <td>101699.77</td>\n",
       "      <td>0</td>\n",
       "      <td>0</td>\n",
       "      <td>0</td>\n",
       "      <td>1</td>\n",
       "    </tr>\n",
       "    <tr>\n",
       "      <th>9997</th>\n",
       "      <td>709</td>\n",
       "      <td>36</td>\n",
       "      <td>7</td>\n",
       "      <td>0.00</td>\n",
       "      <td>1</td>\n",
       "      <td>0</td>\n",
       "      <td>1</td>\n",
       "      <td>42085.58</td>\n",
       "      <td>1</td>\n",
       "      <td>0</td>\n",
       "      <td>0</td>\n",
       "      <td>0</td>\n",
       "    </tr>\n",
       "    <tr>\n",
       "      <th>9998</th>\n",
       "      <td>772</td>\n",
       "      <td>42</td>\n",
       "      <td>3</td>\n",
       "      <td>75075.31</td>\n",
       "      <td>2</td>\n",
       "      <td>1</td>\n",
       "      <td>0</td>\n",
       "      <td>92888.52</td>\n",
       "      <td>1</td>\n",
       "      <td>1</td>\n",
       "      <td>0</td>\n",
       "      <td>1</td>\n",
       "    </tr>\n",
       "    <tr>\n",
       "      <th>9999</th>\n",
       "      <td>792</td>\n",
       "      <td>28</td>\n",
       "      <td>4</td>\n",
       "      <td>130142.79</td>\n",
       "      <td>1</td>\n",
       "      <td>1</td>\n",
       "      <td>0</td>\n",
       "      <td>38190.78</td>\n",
       "      <td>0</td>\n",
       "      <td>0</td>\n",
       "      <td>0</td>\n",
       "      <td>0</td>\n",
       "    </tr>\n",
       "  </tbody>\n",
       "</table>\n",
       "<p>10000 rows × 12 columns</p>\n",
       "</div>"
      ],
      "text/plain": [
       "      CreditScore  Age  Tenure    Balance  NumOfProducts  HasCrCard  \\\n",
       "0             619   42       2       0.00              1          1   \n",
       "1             608   41       1   83807.86              1          0   \n",
       "2             502   42       8  159660.80              3          1   \n",
       "3             699   39       1       0.00              2          0   \n",
       "4             850   43       2  125510.82              1          1   \n",
       "...           ...  ...     ...        ...            ...        ...   \n",
       "9995          771   39       5       0.00              2          1   \n",
       "9996          516   35      10   57369.61              1          1   \n",
       "9997          709   36       7       0.00              1          0   \n",
       "9998          772   42       3   75075.31              2          1   \n",
       "9999          792   28       4  130142.79              1          1   \n",
       "\n",
       "      IsActiveMember  EstimatedSalary  Exited  Geography_Germany  \\\n",
       "0                  1        101348.88       1                  0   \n",
       "1                  1        112542.58       0                  0   \n",
       "2                  0        113931.57       1                  0   \n",
       "3                  0         93826.63       0                  0   \n",
       "4                  1         79084.10       0                  0   \n",
       "...              ...              ...     ...                ...   \n",
       "9995               0         96270.64       0                  0   \n",
       "9996               1        101699.77       0                  0   \n",
       "9997               1         42085.58       1                  0   \n",
       "9998               0         92888.52       1                  1   \n",
       "9999               0         38190.78       0                  0   \n",
       "\n",
       "      Geography_Spain  Gender_Male  \n",
       "0                   0            0  \n",
       "1                   1            0  \n",
       "2                   0            0  \n",
       "3                   0            0  \n",
       "4                   1            0  \n",
       "...               ...          ...  \n",
       "9995                0            1  \n",
       "9996                0            1  \n",
       "9997                0            0  \n",
       "9998                0            1  \n",
       "9999                0            0  \n",
       "\n",
       "[10000 rows x 12 columns]"
      ]
     },
     "execution_count": 85,
     "metadata": {},
     "output_type": "execute_result"
    }
   ],
   "source": [
    "df"
   ]
  },
  {
   "cell_type": "code",
   "execution_count": 86,
   "metadata": {},
   "outputs": [],
   "source": [
    "X = df.drop(columns=['Exited'])\n",
    "y = df['Exited']\n",
    "\n",
    "from sklearn.model_selection import train_test_split\n",
    "X_train, X_test, y_train, y_test = train_test_split(X,y, test_size=0.2, random_state=1)"
   ]
  },
  {
   "cell_type": "code",
   "execution_count": 87,
   "metadata": {},
   "outputs": [
    {
     "data": {
      "text/plain": [
       "(10000, 11)"
      ]
     },
     "execution_count": 87,
     "metadata": {},
     "output_type": "execute_result"
    }
   ],
   "source": [
    "X.shape"
   ]
  },
  {
   "cell_type": "code",
   "execution_count": 88,
   "metadata": {},
   "outputs": [
    {
     "data": {
      "text/plain": [
       "(8000, 11)"
      ]
     },
     "execution_count": 88,
     "metadata": {},
     "output_type": "execute_result"
    }
   ],
   "source": [
    "X_train.shape"
   ]
  },
  {
   "cell_type": "code",
   "execution_count": 89,
   "metadata": {},
   "outputs": [],
   "source": [
    "from sklearn.preprocessing import StandardScaler\n",
    "\n",
    "scalar = StandardScaler()\n",
    "\n",
    "X_train_scaled = scalar.fit_transform(X_train)\n",
    "X_test_scaled = scalar.transform(X_test)\n"
   ]
  },
  {
   "cell_type": "code",
   "execution_count": 90,
   "metadata": {},
   "outputs": [
    {
     "data": {
      "text/plain": [
       "array([[-0.23082038, -0.94449979, -0.70174202, ...,  1.71490137,\n",
       "        -0.57273139,  0.91509065],\n",
       "       [-0.25150912, -0.94449979, -0.35520275, ..., -0.58312392,\n",
       "        -0.57273139, -1.09278791],\n",
       "       [-0.3963303 ,  0.77498705,  0.33787579, ...,  1.71490137,\n",
       "        -0.57273139, -1.09278791],\n",
       "       ...,\n",
       "       [ 0.22433188,  0.58393295,  1.3774936 , ..., -0.58312392,\n",
       "        -0.57273139, -1.09278791],\n",
       "       [ 0.13123255,  0.01077067,  1.03095433, ..., -0.58312392,\n",
       "        -0.57273139, -1.09278791],\n",
       "       [ 1.1656695 ,  0.29735181,  0.33787579, ...,  1.71490137,\n",
       "        -0.57273139,  0.91509065]])"
      ]
     },
     "execution_count": 90,
     "metadata": {},
     "output_type": "execute_result"
    }
   ],
   "source": [
    "X_train_scaled"
   ]
  },
  {
   "attachments": {},
   "cell_type": "markdown",
   "metadata": {},
   "source": [
    "## ANN Model "
   ]
  },
  {
   "cell_type": "code",
   "execution_count": 91,
   "metadata": {},
   "outputs": [],
   "source": [
    "import tensorflow\n",
    "from tensorflow import keras\n",
    "from tensorflow.keras import Sequential\n",
    "from tensorflow.keras.layers import Dense"
   ]
  },
  {
   "cell_type": "code",
   "execution_count": 107,
   "metadata": {},
   "outputs": [],
   "source": [
    "model = Sequential()\n",
    "\n",
    "model.add(Dense(11, activation = 'relu', input_dim = 11))\n",
    "model.add(Dense(11,activation = 'relu'))\n",
    "model.add(Dense(11, activation = 'relu'))\n",
    "model.add(Dense(1, activation = 'sigmoid'))\n"
   ]
  },
  {
   "cell_type": "code",
   "execution_count": 109,
   "metadata": {},
   "outputs": [
    {
     "name": "stdout",
     "output_type": "stream",
     "text": [
      "Model: \"sequential_4\"\n",
      "_________________________________________________________________\n",
      " Layer (type)                Output Shape              Param #   \n",
      "=================================================================\n",
      " dense_11 (Dense)            (None, 11)                132       \n",
      "                                                                 \n",
      " dense_12 (Dense)            (None, 11)                132       \n",
      "                                                                 \n",
      " dense_13 (Dense)            (None, 11)                132       \n",
      "                                                                 \n",
      " dense_14 (Dense)            (None, 1)                 12        \n",
      "                                                                 \n",
      "=================================================================\n",
      "Total params: 408\n",
      "Trainable params: 408\n",
      "Non-trainable params: 0\n",
      "_________________________________________________________________\n"
     ]
    }
   ],
   "source": [
    "model.summary()"
   ]
  },
  {
   "cell_type": "code",
   "execution_count": 110,
   "metadata": {},
   "outputs": [],
   "source": [
    "model.compile(loss='binary_crossentropy', optimizer='Adam', metrics=['accuracy'])"
   ]
  },
  {
   "cell_type": "code",
   "execution_count": 111,
   "metadata": {},
   "outputs": [
    {
     "name": "stdout",
     "output_type": "stream",
     "text": [
      "Epoch 1/100\n",
      "200/200 [==============================] - 0s 879us/step - loss: 0.6220 - accuracy: 0.6623 - val_loss: 0.4888 - val_accuracy: 0.7975\n",
      "Epoch 2/100\n",
      "200/200 [==============================] - 0s 504us/step - loss: 0.4597 - accuracy: 0.8042 - val_loss: 0.4444 - val_accuracy: 0.7994\n",
      "Epoch 3/100\n",
      "200/200 [==============================] - 0s 483us/step - loss: 0.4305 - accuracy: 0.8206 - val_loss: 0.4277 - val_accuracy: 0.8069\n",
      "Epoch 4/100\n",
      "200/200 [==============================] - 0s 468us/step - loss: 0.4143 - accuracy: 0.8258 - val_loss: 0.4098 - val_accuracy: 0.8225\n",
      "Epoch 5/100\n",
      "200/200 [==============================] - 0s 623us/step - loss: 0.3971 - accuracy: 0.8370 - val_loss: 0.3919 - val_accuracy: 0.8319\n",
      "Epoch 6/100\n",
      "200/200 [==============================] - 0s 599us/step - loss: 0.3825 - accuracy: 0.8408 - val_loss: 0.3787 - val_accuracy: 0.8419\n",
      "Epoch 7/100\n",
      "200/200 [==============================] - 0s 495us/step - loss: 0.3710 - accuracy: 0.8472 - val_loss: 0.3686 - val_accuracy: 0.8438\n",
      "Epoch 8/100\n",
      "200/200 [==============================] - 0s 487us/step - loss: 0.3636 - accuracy: 0.8491 - val_loss: 0.3640 - val_accuracy: 0.8456\n",
      "Epoch 9/100\n",
      "200/200 [==============================] - 0s 511us/step - loss: 0.3584 - accuracy: 0.8505 - val_loss: 0.3593 - val_accuracy: 0.8469\n",
      "Epoch 10/100\n",
      "200/200 [==============================] - 0s 464us/step - loss: 0.3554 - accuracy: 0.8537 - val_loss: 0.3570 - val_accuracy: 0.8500\n",
      "Epoch 11/100\n",
      "200/200 [==============================] - 0s 457us/step - loss: 0.3523 - accuracy: 0.8533 - val_loss: 0.3557 - val_accuracy: 0.8519\n",
      "Epoch 12/100\n",
      "200/200 [==============================] - 0s 462us/step - loss: 0.3504 - accuracy: 0.8556 - val_loss: 0.3534 - val_accuracy: 0.8506\n",
      "Epoch 13/100\n",
      "200/200 [==============================] - 0s 460us/step - loss: 0.3482 - accuracy: 0.8539 - val_loss: 0.3525 - val_accuracy: 0.8519\n",
      "Epoch 14/100\n",
      "200/200 [==============================] - 0s 458us/step - loss: 0.3461 - accuracy: 0.8561 - val_loss: 0.3511 - val_accuracy: 0.8531\n",
      "Epoch 15/100\n",
      "200/200 [==============================] - 0s 457us/step - loss: 0.3440 - accuracy: 0.8592 - val_loss: 0.3510 - val_accuracy: 0.8562\n",
      "Epoch 16/100\n",
      "200/200 [==============================] - 0s 462us/step - loss: 0.3422 - accuracy: 0.8600 - val_loss: 0.3485 - val_accuracy: 0.8537\n",
      "Epoch 17/100\n",
      "200/200 [==============================] - 0s 484us/step - loss: 0.3405 - accuracy: 0.8602 - val_loss: 0.3509 - val_accuracy: 0.8556\n",
      "Epoch 18/100\n",
      "200/200 [==============================] - 0s 465us/step - loss: 0.3394 - accuracy: 0.8589 - val_loss: 0.3470 - val_accuracy: 0.8531\n",
      "Epoch 19/100\n",
      "200/200 [==============================] - 0s 455us/step - loss: 0.3380 - accuracy: 0.8602 - val_loss: 0.3477 - val_accuracy: 0.8550\n",
      "Epoch 20/100\n",
      "200/200 [==============================] - 0s 453us/step - loss: 0.3377 - accuracy: 0.8634 - val_loss: 0.3463 - val_accuracy: 0.8525\n",
      "Epoch 21/100\n",
      "200/200 [==============================] - 0s 457us/step - loss: 0.3363 - accuracy: 0.8616 - val_loss: 0.3469 - val_accuracy: 0.8531\n",
      "Epoch 22/100\n",
      "200/200 [==============================] - 0s 458us/step - loss: 0.3350 - accuracy: 0.8627 - val_loss: 0.3442 - val_accuracy: 0.8581\n",
      "Epoch 23/100\n",
      "200/200 [==============================] - 0s 448us/step - loss: 0.3352 - accuracy: 0.8628 - val_loss: 0.3424 - val_accuracy: 0.8562\n",
      "Epoch 24/100\n",
      "200/200 [==============================] - 0s 454us/step - loss: 0.3335 - accuracy: 0.8650 - val_loss: 0.3427 - val_accuracy: 0.8531\n",
      "Epoch 25/100\n",
      "200/200 [==============================] - 0s 456us/step - loss: 0.3322 - accuracy: 0.8637 - val_loss: 0.3427 - val_accuracy: 0.8562\n",
      "Epoch 26/100\n",
      "200/200 [==============================] - 0s 543us/step - loss: 0.3324 - accuracy: 0.8633 - val_loss: 0.3430 - val_accuracy: 0.8537\n",
      "Epoch 27/100\n",
      "200/200 [==============================] - 0s 459us/step - loss: 0.3310 - accuracy: 0.8648 - val_loss: 0.3445 - val_accuracy: 0.8550\n",
      "Epoch 28/100\n",
      "200/200 [==============================] - 0s 452us/step - loss: 0.3316 - accuracy: 0.8619 - val_loss: 0.3421 - val_accuracy: 0.8550\n",
      "Epoch 29/100\n",
      "200/200 [==============================] - 0s 464us/step - loss: 0.3309 - accuracy: 0.8642 - val_loss: 0.3433 - val_accuracy: 0.8550\n",
      "Epoch 30/100\n",
      "200/200 [==============================] - 0s 459us/step - loss: 0.3302 - accuracy: 0.8648 - val_loss: 0.3416 - val_accuracy: 0.8550\n",
      "Epoch 31/100\n",
      "200/200 [==============================] - 0s 456us/step - loss: 0.3306 - accuracy: 0.8670 - val_loss: 0.3426 - val_accuracy: 0.8556\n",
      "Epoch 32/100\n",
      "200/200 [==============================] - 0s 463us/step - loss: 0.3291 - accuracy: 0.8641 - val_loss: 0.3428 - val_accuracy: 0.8562\n",
      "Epoch 33/100\n",
      "200/200 [==============================] - 0s 463us/step - loss: 0.3287 - accuracy: 0.8659 - val_loss: 0.3412 - val_accuracy: 0.8569\n",
      "Epoch 34/100\n",
      "200/200 [==============================] - 0s 457us/step - loss: 0.3291 - accuracy: 0.8648 - val_loss: 0.3424 - val_accuracy: 0.8550\n",
      "Epoch 35/100\n",
      "200/200 [==============================] - 0s 460us/step - loss: 0.3282 - accuracy: 0.8664 - val_loss: 0.3409 - val_accuracy: 0.8569\n",
      "Epoch 36/100\n",
      "200/200 [==============================] - 0s 455us/step - loss: 0.3279 - accuracy: 0.8647 - val_loss: 0.3424 - val_accuracy: 0.8556\n",
      "Epoch 37/100\n",
      "200/200 [==============================] - 0s 456us/step - loss: 0.3284 - accuracy: 0.8655 - val_loss: 0.3416 - val_accuracy: 0.8587\n",
      "Epoch 38/100\n",
      "200/200 [==============================] - 0s 461us/step - loss: 0.3273 - accuracy: 0.8667 - val_loss: 0.3432 - val_accuracy: 0.8562\n",
      "Epoch 39/100\n",
      "200/200 [==============================] - 0s 458us/step - loss: 0.3269 - accuracy: 0.8666 - val_loss: 0.3419 - val_accuracy: 0.8550\n",
      "Epoch 40/100\n",
      "200/200 [==============================] - 0s 459us/step - loss: 0.3267 - accuracy: 0.8662 - val_loss: 0.3443 - val_accuracy: 0.8575\n",
      "Epoch 41/100\n",
      "200/200 [==============================] - 0s 451us/step - loss: 0.3268 - accuracy: 0.8666 - val_loss: 0.3424 - val_accuracy: 0.8569\n",
      "Epoch 42/100\n",
      "200/200 [==============================] - 0s 474us/step - loss: 0.3260 - accuracy: 0.8656 - val_loss: 0.3462 - val_accuracy: 0.8544\n",
      "Epoch 43/100\n",
      "200/200 [==============================] - 0s 458us/step - loss: 0.3259 - accuracy: 0.8673 - val_loss: 0.3438 - val_accuracy: 0.8575\n",
      "Epoch 44/100\n",
      "200/200 [==============================] - 0s 452us/step - loss: 0.3257 - accuracy: 0.8652 - val_loss: 0.3441 - val_accuracy: 0.8556\n",
      "Epoch 45/100\n",
      "200/200 [==============================] - 0s 462us/step - loss: 0.3251 - accuracy: 0.8658 - val_loss: 0.3424 - val_accuracy: 0.8569\n",
      "Epoch 46/100\n",
      "200/200 [==============================] - 0s 459us/step - loss: 0.3252 - accuracy: 0.8659 - val_loss: 0.3449 - val_accuracy: 0.8556\n",
      "Epoch 47/100\n",
      "200/200 [==============================] - 0s 454us/step - loss: 0.3248 - accuracy: 0.8667 - val_loss: 0.3469 - val_accuracy: 0.8519\n",
      "Epoch 48/100\n",
      "200/200 [==============================] - 0s 453us/step - loss: 0.3248 - accuracy: 0.8666 - val_loss: 0.3467 - val_accuracy: 0.8550\n",
      "Epoch 49/100\n",
      "200/200 [==============================] - 0s 451us/step - loss: 0.3248 - accuracy: 0.8669 - val_loss: 0.3447 - val_accuracy: 0.8531\n",
      "Epoch 50/100\n",
      "200/200 [==============================] - 0s 453us/step - loss: 0.3247 - accuracy: 0.8656 - val_loss: 0.3430 - val_accuracy: 0.8575\n",
      "Epoch 51/100\n",
      "200/200 [==============================] - 0s 461us/step - loss: 0.3243 - accuracy: 0.8639 - val_loss: 0.3469 - val_accuracy: 0.8525\n",
      "Epoch 52/100\n",
      "200/200 [==============================] - 0s 454us/step - loss: 0.3240 - accuracy: 0.8658 - val_loss: 0.3441 - val_accuracy: 0.8556\n",
      "Epoch 53/100\n",
      "200/200 [==============================] - 0s 479us/step - loss: 0.3234 - accuracy: 0.8664 - val_loss: 0.3456 - val_accuracy: 0.8531\n",
      "Epoch 54/100\n",
      "200/200 [==============================] - 0s 454us/step - loss: 0.3232 - accuracy: 0.8672 - val_loss: 0.3448 - val_accuracy: 0.8550\n",
      "Epoch 55/100\n",
      "200/200 [==============================] - 0s 448us/step - loss: 0.3227 - accuracy: 0.8673 - val_loss: 0.3446 - val_accuracy: 0.8544\n",
      "Epoch 56/100\n",
      "200/200 [==============================] - 0s 453us/step - loss: 0.3227 - accuracy: 0.8667 - val_loss: 0.3433 - val_accuracy: 0.8581\n",
      "Epoch 57/100\n",
      "200/200 [==============================] - 0s 459us/step - loss: 0.3222 - accuracy: 0.8655 - val_loss: 0.3434 - val_accuracy: 0.8569\n",
      "Epoch 58/100\n",
      "200/200 [==============================] - 0s 456us/step - loss: 0.3226 - accuracy: 0.8650 - val_loss: 0.3463 - val_accuracy: 0.8531\n",
      "Epoch 59/100\n",
      "200/200 [==============================] - 0s 458us/step - loss: 0.3228 - accuracy: 0.8675 - val_loss: 0.3459 - val_accuracy: 0.8556\n",
      "Epoch 60/100\n",
      "200/200 [==============================] - 0s 452us/step - loss: 0.3219 - accuracy: 0.8655 - val_loss: 0.3486 - val_accuracy: 0.8531\n",
      "Epoch 61/100\n",
      "200/200 [==============================] - 0s 452us/step - loss: 0.3218 - accuracy: 0.8659 - val_loss: 0.3455 - val_accuracy: 0.8544\n",
      "Epoch 62/100\n",
      "200/200 [==============================] - 0s 449us/step - loss: 0.3216 - accuracy: 0.8662 - val_loss: 0.3463 - val_accuracy: 0.8569\n",
      "Epoch 63/100\n",
      "200/200 [==============================] - 0s 454us/step - loss: 0.3219 - accuracy: 0.8680 - val_loss: 0.3445 - val_accuracy: 0.8569\n",
      "Epoch 64/100\n",
      "200/200 [==============================] - 0s 451us/step - loss: 0.3217 - accuracy: 0.8656 - val_loss: 0.3453 - val_accuracy: 0.8569\n",
      "Epoch 65/100\n",
      "200/200 [==============================] - 0s 482us/step - loss: 0.3214 - accuracy: 0.8662 - val_loss: 0.3462 - val_accuracy: 0.8562\n",
      "Epoch 66/100\n",
      "200/200 [==============================] - 0s 454us/step - loss: 0.3210 - accuracy: 0.8677 - val_loss: 0.3457 - val_accuracy: 0.8575\n",
      "Epoch 67/100\n",
      "200/200 [==============================] - 0s 447us/step - loss: 0.3214 - accuracy: 0.8670 - val_loss: 0.3467 - val_accuracy: 0.8556\n",
      "Epoch 68/100\n",
      "200/200 [==============================] - 0s 449us/step - loss: 0.3211 - accuracy: 0.8666 - val_loss: 0.3464 - val_accuracy: 0.8594\n",
      "Epoch 69/100\n",
      "200/200 [==============================] - 0s 453us/step - loss: 0.3216 - accuracy: 0.8655 - val_loss: 0.3463 - val_accuracy: 0.8550\n",
      "Epoch 70/100\n",
      "200/200 [==============================] - 0s 457us/step - loss: 0.3205 - accuracy: 0.8653 - val_loss: 0.3452 - val_accuracy: 0.8550\n",
      "Epoch 71/100\n",
      "200/200 [==============================] - 0s 451us/step - loss: 0.3202 - accuracy: 0.8677 - val_loss: 0.3482 - val_accuracy: 0.8537\n",
      "Epoch 72/100\n",
      "200/200 [==============================] - 0s 455us/step - loss: 0.3198 - accuracy: 0.8662 - val_loss: 0.3497 - val_accuracy: 0.8537\n",
      "Epoch 73/100\n",
      "200/200 [==============================] - 0s 451us/step - loss: 0.3198 - accuracy: 0.8669 - val_loss: 0.3497 - val_accuracy: 0.8537\n",
      "Epoch 74/100\n",
      "200/200 [==============================] - 0s 452us/step - loss: 0.3195 - accuracy: 0.8691 - val_loss: 0.3490 - val_accuracy: 0.8575\n",
      "Epoch 75/100\n",
      "200/200 [==============================] - 0s 455us/step - loss: 0.3203 - accuracy: 0.8666 - val_loss: 0.3459 - val_accuracy: 0.8612\n",
      "Epoch 76/100\n",
      "200/200 [==============================] - 0s 463us/step - loss: 0.3196 - accuracy: 0.8659 - val_loss: 0.3496 - val_accuracy: 0.8525\n",
      "Epoch 77/100\n",
      "200/200 [==============================] - 0s 485us/step - loss: 0.3200 - accuracy: 0.8662 - val_loss: 0.3467 - val_accuracy: 0.8556\n",
      "Epoch 78/100\n",
      "200/200 [==============================] - 0s 536us/step - loss: 0.3193 - accuracy: 0.8686 - val_loss: 0.3478 - val_accuracy: 0.8531\n",
      "Epoch 79/100\n",
      "200/200 [==============================] - 0s 453us/step - loss: 0.3192 - accuracy: 0.8686 - val_loss: 0.3501 - val_accuracy: 0.8519\n",
      "Epoch 80/100\n",
      "200/200 [==============================] - 0s 454us/step - loss: 0.3199 - accuracy: 0.8670 - val_loss: 0.3497 - val_accuracy: 0.8506\n",
      "Epoch 81/100\n",
      "200/200 [==============================] - 0s 449us/step - loss: 0.3187 - accuracy: 0.8673 - val_loss: 0.3485 - val_accuracy: 0.8550\n",
      "Epoch 82/100\n",
      "200/200 [==============================] - 0s 456us/step - loss: 0.3188 - accuracy: 0.8680 - val_loss: 0.3487 - val_accuracy: 0.8575\n",
      "Epoch 83/100\n",
      "200/200 [==============================] - 0s 458us/step - loss: 0.3185 - accuracy: 0.8667 - val_loss: 0.3512 - val_accuracy: 0.8537\n",
      "Epoch 84/100\n",
      "200/200 [==============================] - 0s 453us/step - loss: 0.3188 - accuracy: 0.8672 - val_loss: 0.3479 - val_accuracy: 0.8556\n",
      "Epoch 85/100\n",
      "200/200 [==============================] - 0s 492us/step - loss: 0.3184 - accuracy: 0.8672 - val_loss: 0.3519 - val_accuracy: 0.8537\n",
      "Epoch 86/100\n",
      "200/200 [==============================] - 0s 455us/step - loss: 0.3191 - accuracy: 0.8656 - val_loss: 0.3488 - val_accuracy: 0.8569\n",
      "Epoch 87/100\n",
      "200/200 [==============================] - 0s 454us/step - loss: 0.3182 - accuracy: 0.8678 - val_loss: 0.3472 - val_accuracy: 0.8600\n",
      "Epoch 88/100\n",
      "200/200 [==============================] - 0s 458us/step - loss: 0.3176 - accuracy: 0.8670 - val_loss: 0.3565 - val_accuracy: 0.8512\n",
      "Epoch 89/100\n",
      "200/200 [==============================] - 0s 448us/step - loss: 0.3184 - accuracy: 0.8686 - val_loss: 0.3483 - val_accuracy: 0.8562\n",
      "Epoch 90/100\n",
      "200/200 [==============================] - 0s 496us/step - loss: 0.3173 - accuracy: 0.8686 - val_loss: 0.3501 - val_accuracy: 0.8556\n",
      "Epoch 91/100\n",
      "200/200 [==============================] - 0s 459us/step - loss: 0.3183 - accuracy: 0.8672 - val_loss: 0.3481 - val_accuracy: 0.8581\n",
      "Epoch 92/100\n",
      "200/200 [==============================] - 0s 456us/step - loss: 0.3177 - accuracy: 0.8675 - val_loss: 0.3517 - val_accuracy: 0.8544\n",
      "Epoch 93/100\n",
      "200/200 [==============================] - 0s 467us/step - loss: 0.3178 - accuracy: 0.8681 - val_loss: 0.3485 - val_accuracy: 0.8581\n",
      "Epoch 94/100\n",
      "200/200 [==============================] - 0s 448us/step - loss: 0.3175 - accuracy: 0.8680 - val_loss: 0.3504 - val_accuracy: 0.8531\n",
      "Epoch 95/100\n",
      "200/200 [==============================] - 0s 461us/step - loss: 0.3171 - accuracy: 0.8683 - val_loss: 0.3508 - val_accuracy: 0.8531\n",
      "Epoch 96/100\n",
      "200/200 [==============================] - 0s 455us/step - loss: 0.3163 - accuracy: 0.8680 - val_loss: 0.3474 - val_accuracy: 0.8587\n",
      "Epoch 97/100\n",
      "200/200 [==============================] - 0s 447us/step - loss: 0.3166 - accuracy: 0.8683 - val_loss: 0.3489 - val_accuracy: 0.8544\n",
      "Epoch 98/100\n",
      "200/200 [==============================] - 0s 456us/step - loss: 0.3166 - accuracy: 0.8673 - val_loss: 0.3482 - val_accuracy: 0.8556\n",
      "Epoch 99/100\n",
      "200/200 [==============================] - 0s 447us/step - loss: 0.3174 - accuracy: 0.8670 - val_loss: 0.3500 - val_accuracy: 0.8581\n",
      "Epoch 100/100\n",
      "200/200 [==============================] - 0s 454us/step - loss: 0.3160 - accuracy: 0.8662 - val_loss: 0.3474 - val_accuracy: 0.8581\n"
     ]
    }
   ],
   "source": [
    "history = model.fit(X_train_scaled,y_train, epochs=100, validation_split= 0.2)"
   ]
  },
  {
   "cell_type": "code",
   "execution_count": 112,
   "metadata": {},
   "outputs": [
    {
     "data": {
      "text/plain": [
       "[array([[ 0.1378112 , -0.21315034, -0.01756302, -0.20547916,  0.15869798,\n",
       "         -0.04793596,  0.06958883,  0.23901364,  0.05680248,  0.2554616 ,\n",
       "         -0.27368385],\n",
       "        [ 0.47779968,  1.1856784 ,  0.3031327 , -0.5830275 , -0.2846538 ,\n",
       "         -0.13186295,  0.8791352 ,  0.4076462 , -0.3961226 ,  0.2589952 ,\n",
       "          0.26712304],\n",
       "        [ 0.21859807, -0.11445079,  0.05554547,  0.46852475, -0.4641565 ,\n",
       "         -0.1225352 ,  0.2683454 ,  0.26040903, -0.14117017, -0.18100485,\n",
       "          0.1195245 ],\n",
       "        [ 0.14907147, -0.25621048,  0.25129735, -0.13496682,  0.03554889,\n",
       "          0.04550923, -0.05444672, -0.18271653, -0.3599761 , -0.12035201,\n",
       "          0.17204386],\n",
       "        [ 0.45356902, -0.6455124 ,  1.1230764 ,  0.38706973,  0.82024205,\n",
       "          0.3164416 ,  0.3923465 , -0.6786171 ,  0.30509913,  0.03871979,\n",
       "         -0.14101641],\n",
       "        [ 0.14176661, -0.01099014,  0.03745936, -0.27986586, -0.4061    ,\n",
       "         -0.19537534, -0.07658086, -0.4112114 ,  0.6580695 , -0.2846854 ,\n",
       "         -0.13144127],\n",
       "        [-0.23298818,  0.14538205,  0.07442111, -0.04019087,  0.12819794,\n",
       "          0.23841219,  0.7826616 , -0.301678  ,  0.13994241, -0.1206353 ,\n",
       "          0.09437346],\n",
       "        [ 0.30507943, -0.01776047, -0.06645061, -0.56201905, -0.1492536 ,\n",
       "          0.0896719 ,  0.09931499,  0.00905323, -0.1288194 ,  0.37573737,\n",
       "         -0.3984212 ],\n",
       "        [ 0.11142707,  0.10779428, -0.21928512, -0.02975504, -0.61200833,\n",
       "          0.09893671,  0.00407326,  0.31125644, -0.5525109 ,  0.1605423 ,\n",
       "         -0.19397597],\n",
       "        [ 0.49981347, -0.12963104,  0.02694515,  0.6435985 , -0.03984887,\n",
       "         -0.8125823 ,  0.21429391,  0.35772932, -0.19676779,  0.3469906 ,\n",
       "         -0.67823434],\n",
       "        [ 0.22150561,  0.0516015 , -0.02271956, -0.25475538,  0.287479  ,\n",
       "         -0.03115755,  0.146365  ,  0.27483922,  0.02893303,  0.71125454,\n",
       "          0.6280613 ]], dtype=float32),\n",
       " array([ 0.33551463,  0.04729524, -0.4197602 ,  0.05960097, -0.07397051,\n",
       "         0.24197291, -0.14746633,  0.29604363,  0.58288276,  0.25753534,\n",
       "         0.23018068], dtype=float32)]"
      ]
     },
     "execution_count": 112,
     "metadata": {},
     "output_type": "execute_result"
    }
   ],
   "source": [
    "model.layers[0].get_weights()"
   ]
  },
  {
   "cell_type": "code",
   "execution_count": 113,
   "metadata": {},
   "outputs": [
    {
     "data": {
      "text/plain": [
       "[array([[ 5.63523844e-02, -4.34628308e-01,  9.30221677e-02,\n",
       "          8.00080657e-01, -5.43392003e-01,  2.10929796e-01,\n",
       "          4.08727795e-01,  2.58464187e-01,  4.57215935e-01,\n",
       "         -2.83078969e-01,  4.14029390e-01],\n",
       "        [ 6.15348577e-01, -2.78897315e-01,  4.42449600e-01,\n",
       "         -1.06582716e-01, -1.30086750e-01,  1.38409793e-01,\n",
       "         -4.75011110e-01, -5.90968013e-01,  3.42745215e-01,\n",
       "         -2.66497672e-01,  1.24800894e-02],\n",
       "        [-2.30722561e-01, -4.71610665e-01,  9.63233948e-01,\n",
       "          1.20272756e-01, -4.82104510e-01, -7.51290500e-01,\n",
       "          6.46623433e-01, -7.72001445e-01, -9.29626822e-02,\n",
       "         -5.09697080e-01, -4.64057177e-01],\n",
       "        [ 3.40037346e-02,  3.40284914e-01,  4.39361840e-01,\n",
       "         -3.24860692e-01, -3.42292041e-01,  2.04044089e-01,\n",
       "         -2.07584202e-01,  5.56525052e-01,  1.52378172e-01,\n",
       "         -2.04230532e-01,  5.78618646e-01],\n",
       "        [-1.92536861e-02,  5.78008652e-01,  3.64842033e-03,\n",
       "          5.37843108e-01,  4.98689234e-01, -2.75028646e-02,\n",
       "          3.30974579e-01,  1.22318141e-01, -1.56677639e+00,\n",
       "         -3.77151161e-01, -6.92777615e-03],\n",
       "        [ 1.67929307e-02,  8.12316090e-02, -2.50192285e-01,\n",
       "          4.45372999e-01,  3.30407947e-01, -6.98869765e-01,\n",
       "         -4.99311268e-01,  1.88399315e-01, -2.23764345e-01,\n",
       "         -9.72655341e-02,  3.07210803e-01],\n",
       "        [ 3.39415789e-01, -9.34955001e-01,  5.08067310e-01,\n",
       "         -4.94808763e-01,  4.17342424e-01,  9.32976186e-01,\n",
       "          2.75065958e-01, -6.40438050e-02, -3.45490903e-01,\n",
       "          1.63377404e-01,  7.01168001e-01],\n",
       "        [ 1.63685203e-01, -7.83289038e-03, -1.05157606e-01,\n",
       "         -4.98637468e-01, -7.13675022e-01, -2.96118766e-01,\n",
       "          3.99939060e-01,  1.29571885e-01,  4.38647270e-01,\n",
       "         -3.21959198e-01,  9.14505348e-02],\n",
       "        [ 8.72716367e-01,  4.17838335e-01, -9.80465561e-02,\n",
       "          1.14623442e-01,  4.17900085e-01, -2.09667329e-02,\n",
       "         -1.18133955e-01,  7.49732852e-01,  4.20282818e-02,\n",
       "         -8.99254531e-03,  9.07537714e-03],\n",
       "        [-1.29233912e-01, -2.21999839e-01, -7.58616545e-04,\n",
       "          3.20803761e-01,  5.65865219e-01, -4.02919799e-02,\n",
       "         -5.32470942e-01,  4.38344106e-02,  2.10161090e-01,\n",
       "         -1.76787168e-01,  1.09331399e-01],\n",
       "        [-1.42234907e-01, -3.16209346e-01, -2.10203622e-02,\n",
       "          5.90464175e-02, -9.18718398e-01,  5.67721538e-02,\n",
       "         -8.39719296e-01,  1.61737517e-01, -1.05986312e-01,\n",
       "         -2.37024620e-01,  8.74164328e-03]], dtype=float32),\n",
       " array([ 0.2798003 ,  0.1355381 , -0.66279405,  0.6361873 , -0.17329836,\n",
       "        -0.22162645, -0.26870707,  0.42495015,  0.0826131 , -0.1727922 ,\n",
       "         0.1514391 ], dtype=float32)]"
      ]
     },
     "execution_count": 113,
     "metadata": {},
     "output_type": "execute_result"
    }
   ],
   "source": [
    "model.layers[1].get_weights()"
   ]
  },
  {
   "cell_type": "code",
   "execution_count": 114,
   "metadata": {},
   "outputs": [
    {
     "name": "stdout",
     "output_type": "stream",
     "text": [
      "63/63 [==============================] - 0s 325us/step\n"
     ]
    }
   ],
   "source": [
    "y_log = model.predict(X_test_scaled)"
   ]
  },
  {
   "cell_type": "code",
   "execution_count": 115,
   "metadata": {},
   "outputs": [],
   "source": [
    "y_pred = np.where(y_log > 0.5, 1, 0)"
   ]
  },
  {
   "cell_type": "code",
   "execution_count": 116,
   "metadata": {},
   "outputs": [],
   "source": [
    "from sklearn.metrics import accuracy_score"
   ]
  },
  {
   "cell_type": "code",
   "execution_count": 117,
   "metadata": {},
   "outputs": [
    {
     "data": {
      "text/plain": [
       "0.8605"
      ]
     },
     "execution_count": 117,
     "metadata": {},
     "output_type": "execute_result"
    }
   ],
   "source": [
    "accuracy_score(y_test,y_pred)"
   ]
  },
  {
   "cell_type": "code",
   "execution_count": 118,
   "metadata": {},
   "outputs": [
    {
     "data": {
      "text/plain": [
       "[<matplotlib.lines.Line2D at 0x28cdfadd0>]"
      ]
     },
     "execution_count": 118,
     "metadata": {},
     "output_type": "execute_result"
    },
    {
     "data": {
      "image/png": "[encoded data removed]",
      "text/plain": [
       "<Figure size 640x480 with 1 Axes>"
      ]
     },
     "metadata": {},
     "output_type": "display_data"
    }
   ],
   "source": [
    "import matplotlib.pyplot as plt\n",
    "\n",
    "plt.plot(history.history['loss'])\n",
    "plt.plot(history.history['val_loss'])"
   ]
  },
  {
   "cell_type": "code",
   "execution_count": 119,
   "metadata": {},
   "outputs": [
    {
     "data": {
      "text/plain": [
       "<matplotlib.legend.Legend at 0x28b0e2020>"
      ]
     },
     "execution_count": 119,
     "metadata": {},
     "output_type": "execute_result"
    },
    {
     "data": {
      "image/png": "[encoded data removed]",
      "text/plain": [
       "<Figure size 640x480 with 1 Axes>"
      ]
     },
     "metadata": {},
     "output_type": "display_data"
    }
   ],
   "source": [
    "plt.plot(history.history['accuracy'], label = 'Accuracy')\n",
    "plt.plot(history.history['val_accuracy'], label = 'Validation Accuracy')\n",
    "\n",
    "plt.legend()\n"
   ]
  },
  {
   "cell_type": "code",
   "execution_count": 5,
   "metadata": {},
   "outputs": [
    {
     "name": "stdout",
     "output_type": "stream",
     "text": [
      "4.8\n"
     ]
    }
   ],
   "source": [
    "import numpy as np\n",
    "\n",
    "sample_means = [1,3,2,5,11,1,8,6,4,3,2,11,5,4,6]\n",
    "\n",
    "means_of_sample_means = np.mean(sample_means)\n",
    "\n",
    "print(means_of_sample_means)"
   ]
  },
  {
   "cell_type": "code",
   "execution_count": 6,
   "metadata": {},
   "outputs": [
    {
     "data": {
      "text/plain": [
       "15"
      ]
     },
     "execution_count": 6,
     "metadata": {},
     "output_type": "execute_result"
    }
   ],
   "source": [
    "len(sample_means)"
   ]
  },
  {
   "cell_type": "code",
   "execution_count": 22,
   "metadata": {},
   "outputs": [
    {
     "data": {
      "text/plain": [
       "0.7955431408094025"
      ]
     },
     "execution_count": 22,
     "metadata": {},
     "output_type": "execute_result"
    }
   ],
   "source": [
    "values = 0 \n",
    "for i in sample_means:\n",
    "    values += (i - means_of_sample_means) ** 2\n",
    "\n",
    "np.sqrt(values)/15"
   ]
  },
  {
   "cell_type": "code",
   "execution_count": null,
   "metadata": {},
   "outputs": [],
   "source": []
  }
 ],
 "metadata": {
  "kernelspec": {
   "display_name": "adv_ds",
   "language": "python",
   "name": "python3"
  },
  "language_info": {
   "codemirror_mode": {
    "name": "ipython",
    "version": 3
   },
   "file_extension": ".py",
   "mimetype": "text/x-python",
   "name": "python",
   "nbconvert_exporter": "python",
   "pygments_lexer": "ipython3",
   "version": "3.10.9"
  },
  "orig_nbformat": 4
 },
 "nbformat": 4,
 "nbformat_minor": 2
}

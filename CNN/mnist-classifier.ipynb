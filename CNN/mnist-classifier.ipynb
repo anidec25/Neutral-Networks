{
 "cells": [
  {
   "attachments": {},
   "cell_type": "markdown",
   "metadata": {},
   "source": [
    "## Importing all the required Libraries"
   ]
  },
  {
   "cell_type": "code",
   "execution_count": 140,
   "metadata": {},
   "outputs": [],
   "source": [
    "import numpy as np\n",
    "import pandas as pd\n",
    "import matplotlib.pyplot as plt\n",
    "\n",
    "import tensorflow as tf\n",
    "from tensorflow import keras\n",
    "from tensorflow.keras import Sequential\n",
    "from tensorflow.keras.layers import Dense, Flatten, Conv2D, MaxPooling2D,AveragePooling2D, BatchNormalization,Dropout\n",
    "from tensorflow.keras import datasets\n",
    "\n",
    "\n",
    "from sklearn.preprocessing import StandardScaler"
   ]
  },
  {
   "cell_type": "code",
   "execution_count": 141,
   "metadata": {},
   "outputs": [],
   "source": [
    "(X_train,y_train), (X_test,y_test) = datasets.mnist.load_data()"
   ]
  },
  {
   "cell_type": "code",
   "execution_count": 142,
   "metadata": {},
   "outputs": [
    {
     "data": {
      "text/plain": [
       "(60000, 28, 28)"
      ]
     },
     "execution_count": 142,
     "metadata": {},
     "output_type": "execute_result"
    }
   ],
   "source": [
    "X_train.shape"
   ]
  },
  {
   "cell_type": "code",
   "execution_count": 156,
   "metadata": {},
   "outputs": [],
   "source": [
    "channels = X_train.shape[-1]"
   ]
  },
  {
   "cell_type": "code",
   "execution_count": 157,
   "metadata": {},
   "outputs": [
    {
     "data": {
      "text/plain": [
       "28"
      ]
     },
     "execution_count": 157,
     "metadata": {},
     "output_type": "execute_result"
    }
   ],
   "source": [
    "channels"
   ]
  },
  {
   "cell_type": "code",
   "execution_count": 155,
   "metadata": {},
   "outputs": [
    {
     "data": {
      "text/plain": [
       "(28, 28)"
      ]
     },
     "execution_count": 155,
     "metadata": {},
     "output_type": "execute_result"
    }
   ],
   "source": [
    "X_train[0].shape"
   ]
  },
  {
   "cell_type": "code",
   "execution_count": 144,
   "metadata": {},
   "outputs": [
    {
     "data": {
      "text/plain": [
       "<matplotlib.image.AxesImage at 0x2d3366050>"
      ]
     },
     "execution_count": 144,
     "metadata": {},
     "output_type": "execute_result"
    },
    {
     "data": {
      "image/png": "[encoded data removed]",
      "text/plain": [
       "<Figure size 640x480 with 1 Axes>"
      ]
     },
     "metadata": {},
     "output_type": "display_data"
    }
   ],
   "source": [
    "plt.imshow(X_train[0])      "
   ]
  },
  {
   "cell_type": "code",
   "execution_count": 145,
   "metadata": {},
   "outputs": [],
   "source": [
    "X_train_scaled = X_train/255\n",
    "X_test_scaled = X_test/255"
   ]
  },
  {
   "cell_type": "code",
   "execution_count": 166,
   "metadata": {},
   "outputs": [],
   "source": [
    "## Defining the CNN architecture\n",
    "\n",
    "model = Sequential(\n",
    "    name = 'Baseline_Model',\n",
    "    layers = [Conv2D(32, kernel_size = (3,3), padding = 'valid', activation = 'relu', input_shape=(28,28,1)),\n",
    "              MaxPooling2D(pool_size = (2,2)),\n",
    "\n",
    "              BatchNormalization(),\n",
    "              Dropout(0.5),\n",
    "\n",
    "              Conv2D(64, kernel_size = (3,3), padding = 'valid', activation = 'relu'),\n",
    "              MaxPooling2D(pool_size = (2,2)),\n",
    "\n",
    "              BatchNormalization(),\n",
    "              Dropout(0.5),\n",
    "\n",
    "              Conv2D(128, kernel_size = (3,3), padding = 'valid', activation = 'relu'),\n",
    "              MaxPooling2D(pool_size = (2,2)),\n",
    "\n",
    "              BatchNormalization(),\n",
    "              Dropout(0.5),\n",
    "            \n",
    "\n",
    "              Flatten(),\n",
    "              Dense(128, activation = 'relu'),\n",
    "              Dropout(0.5),\n",
    "              Dense(64,activation = 'relu'),\n",
    "              Dropout(0.5),\n",
    "              Dense(10, activation = 'softmax')\n",
    "              ]\n",
    "    )"
   ]
  },
  {
   "cell_type": "code",
   "execution_count": 167,
   "metadata": {},
   "outputs": [
    {
     "name": "stdout",
     "output_type": "stream",
     "text": [
      "Model: \"Baseline_Model\"\n",
      "_________________________________________________________________\n",
      " Layer (type)                Output Shape              Param #   \n",
      "=================================================================\n",
      " conv2d_69 (Conv2D)          (None, 26, 26, 32)        320       \n",
      "                                                                 \n",
      " max_pooling2d_35 (MaxPoolin  (None, 13, 13, 32)       0         \n",
      " g2D)                                                            \n",
      "                                                                 \n",
      " batch_normalization_33 (Bat  (None, 13, 13, 32)       128       \n",
      " chNormalization)                                                \n",
      "                                                                 \n",
      " dropout_35 (Dropout)        (None, 13, 13, 32)        0         \n",
      "                                                                 \n",
      " conv2d_70 (Conv2D)          (None, 11, 11, 64)        18496     \n",
      "                                                                 \n",
      " max_pooling2d_36 (MaxPoolin  (None, 5, 5, 64)         0         \n",
      " g2D)                                                            \n",
      "                                                                 \n",
      " batch_normalization_34 (Bat  (None, 5, 5, 64)         256       \n",
      " chNormalization)                                                \n",
      "                                                                 \n",
      " dropout_36 (Dropout)        (None, 5, 5, 64)          0         \n",
      "                                                                 \n",
      " conv2d_71 (Conv2D)          (None, 3, 3, 128)         73856     \n",
      "                                                                 \n",
      " max_pooling2d_37 (MaxPoolin  (None, 1, 1, 128)        0         \n",
      " g2D)                                                            \n",
      "                                                                 \n",
      " batch_normalization_35 (Bat  (None, 1, 1, 128)        512       \n",
      " chNormalization)                                                \n",
      "                                                                 \n",
      " dropout_37 (Dropout)        (None, 1, 1, 128)         0         \n",
      "                                                                 \n",
      " flatten_26 (Flatten)        (None, 128)               0         \n",
      "                                                                 \n",
      " dense_72 (Dense)            (None, 128)               16512     \n",
      "                                                                 \n",
      " dropout_38 (Dropout)        (None, 128)               0         \n",
      "                                                                 \n",
      " dense_73 (Dense)            (None, 64)                8256      \n",
      "                                                                 \n",
      " dropout_39 (Dropout)        (None, 64)                0         \n",
      "                                                                 \n",
      " dense_74 (Dense)            (None, 10)                650       \n",
      "                                                                 \n",
      "=================================================================\n",
      "Total params: 118,986\n",
      "Trainable params: 118,538\n",
      "Non-trainable params: 448\n",
      "_________________________________________________________________\n"
     ]
    }
   ],
   "source": [
    "model.summary()"
   ]
  },
  {
   "cell_type": "code",
   "execution_count": 168,
   "metadata": {},
   "outputs": [],
   "source": [
    "model.compile(loss='sparse_categorical_crossentropy', optimizer='RMSprop', metrics=['accuracy'])"
   ]
  },
  {
   "cell_type": "code",
   "execution_count": 169,
   "metadata": {},
   "outputs": [
    {
     "name": "stdout",
     "output_type": "stream",
     "text": [
      "Epoch 1/100\n",
      "750/750 [==============================] - 12s 15ms/step - loss: 1.3168 - accuracy: 0.6697 - val_loss: 0.4747 - val_accuracy: 0.8672\n",
      "Epoch 2/100\n",
      "750/750 [==============================] - 10s 14ms/step - loss: 0.3899 - accuracy: 0.8898 - val_loss: 0.1597 - val_accuracy: 0.9518\n",
      "Epoch 3/100\n",
      "750/750 [==============================] - 11s 14ms/step - loss: 0.2670 - accuracy: 0.9240 - val_loss: 0.1104 - val_accuracy: 0.9653\n",
      "Epoch 4/100\n",
      "750/750 [==============================] - 11s 15ms/step - loss: 0.2254 - accuracy: 0.9376 - val_loss: 0.0902 - val_accuracy: 0.9712\n",
      "Epoch 5/100\n",
      "750/750 [==============================] - 11s 15ms/step - loss: 0.2042 - accuracy: 0.9436 - val_loss: 0.0924 - val_accuracy: 0.9717\n",
      "Epoch 6/100\n",
      "750/750 [==============================] - 12s 16ms/step - loss: 0.1821 - accuracy: 0.9483 - val_loss: 0.0768 - val_accuracy: 0.9756\n",
      "Epoch 7/100\n",
      "750/750 [==============================] - 12s 15ms/step - loss: 0.1748 - accuracy: 0.9501 - val_loss: 0.0733 - val_accuracy: 0.9777\n",
      "Epoch 8/100\n",
      "750/750 [==============================] - 12s 16ms/step - loss: 0.1635 - accuracy: 0.9535 - val_loss: 0.0936 - val_accuracy: 0.9717\n",
      "Epoch 9/100\n",
      "750/750 [==============================] - 12s 16ms/step - loss: 0.1560 - accuracy: 0.9570 - val_loss: 0.0720 - val_accuracy: 0.9766\n",
      "Epoch 10/100\n",
      "750/750 [==============================] - 11s 15ms/step - loss: 0.1535 - accuracy: 0.9578 - val_loss: 0.0746 - val_accuracy: 0.9763\n",
      "Epoch 11/100\n",
      "750/750 [==============================] - 12s 16ms/step - loss: 0.1500 - accuracy: 0.9591 - val_loss: 0.0977 - val_accuracy: 0.9723\n",
      "Epoch 12/100\n",
      "750/750 [==============================] - 11s 14ms/step - loss: 0.1482 - accuracy: 0.9610 - val_loss: 0.0892 - val_accuracy: 0.9742\n",
      "Epoch 13/100\n",
      "750/750 [==============================] - 11s 14ms/step - loss: 0.1442 - accuracy: 0.9606 - val_loss: 0.0895 - val_accuracy: 0.9744\n",
      "Epoch 14/100\n",
      "750/750 [==============================] - 11s 14ms/step - loss: 0.1509 - accuracy: 0.9603 - val_loss: 0.0644 - val_accuracy: 0.9815\n",
      "Epoch 15/100\n",
      "750/750 [==============================] - 11s 15ms/step - loss: 0.1443 - accuracy: 0.9627 - val_loss: 0.0864 - val_accuracy: 0.9772\n",
      "Epoch 16/100\n",
      "750/750 [==============================] - 11s 15ms/step - loss: 0.1466 - accuracy: 0.9633 - val_loss: 0.0710 - val_accuracy: 0.9791\n"
     ]
    }
   ],
   "source": [
    "history = model.fit(\n",
    "    X_train_scaled,\n",
    "    y_train,\n",
    "    batch_size = 64,\n",
    "    epochs= 100,\n",
    "    callbacks = [tf.keras.callbacks.EarlyStopping(monitor = 'loss', patience= 3)],\n",
    "    validation_split = 0.2\n",
    ")"
   ]
  },
  {
   "cell_type": "code",
   "execution_count": 170,
   "metadata": {},
   "outputs": [
    {
     "data": {
      "text/plain": [
       "{'loss': [1.3168219327926636,\n",
       "  0.3898813724517822,\n",
       "  0.26700207591056824,\n",
       "  0.2254330962896347,\n",
       "  0.20417948067188263,\n",
       "  0.18205790221691132,\n",
       "  0.17478936910629272,\n",
       "  0.1635424643754959,\n",
       "  0.15596741437911987,\n",
       "  0.15346381068229675,\n",
       "  0.15004763007164001,\n",
       "  0.14816001057624817,\n",
       "  0.14420995116233826,\n",
       "  0.1509290188550949,\n",
       "  0.1442880481481552,\n",
       "  0.14664193987846375],\n",
       " 'accuracy': [0.6696666479110718,\n",
       "  0.8898333311080933,\n",
       "  0.9240208268165588,\n",
       "  0.937624990940094,\n",
       "  0.9436458349227905,\n",
       "  0.9482707977294922,\n",
       "  0.950124979019165,\n",
       "  0.95354163646698,\n",
       "  0.9570000171661377,\n",
       "  0.957770824432373,\n",
       "  0.9590833187103271,\n",
       "  0.9609999656677246,\n",
       "  0.9606041312217712,\n",
       "  0.9602708220481873,\n",
       "  0.9627082943916321,\n",
       "  0.9632708430290222],\n",
       " 'val_loss': [0.4746682047843933,\n",
       "  0.1597176492214203,\n",
       "  0.11041934043169022,\n",
       "  0.09015482664108276,\n",
       "  0.09236656874418259,\n",
       "  0.0767734944820404,\n",
       "  0.07334523648023605,\n",
       "  0.09364298731088638,\n",
       "  0.07196696102619171,\n",
       "  0.07464757561683655,\n",
       "  0.09774413704872131,\n",
       "  0.08923746645450592,\n",
       "  0.08949185907840729,\n",
       "  0.0643501952290535,\n",
       "  0.08643247187137604,\n",
       "  0.07103274762630463],\n",
       " 'val_accuracy': [0.8672499656677246,\n",
       "  0.9518333077430725,\n",
       "  0.9652500152587891,\n",
       "  0.9711666703224182,\n",
       "  0.9717499613761902,\n",
       "  0.9755833148956299,\n",
       "  0.9776666760444641,\n",
       "  0.9716666340827942,\n",
       "  0.9765833020210266,\n",
       "  0.9763333201408386,\n",
       "  0.9723333120346069,\n",
       "  0.9741666316986084,\n",
       "  0.9744166731834412,\n",
       "  0.981499969959259,\n",
       "  0.9771666526794434,\n",
       "  0.9790832996368408]}"
      ]
     },
     "execution_count": 170,
     "metadata": {},
     "output_type": "execute_result"
    }
   ],
   "source": [
    "history.history"
   ]
  },
  {
   "cell_type": "code",
   "execution_count": 171,
   "metadata": {},
   "outputs": [
    {
     "data": {
      "image/png": "[encoded data removed]",
      "text/plain": [
       "<Figure size 1000x600 with 1 Axes>"
      ]
     },
     "metadata": {},
     "output_type": "display_data"
    }
   ],
   "source": [
    "def plot_accuaracy(history = history):\n",
    "\n",
    "    accuracy = history.history['accuracy']\n",
    "    val_accuracy = history.history['val_accuracy']\n",
    "    epochs = np.arange(1,len(val_accuracy) + 1)\n",
    "\n",
    "    plt.figure(figsize=(10,6))\n",
    "\n",
    "    plt.subplot(1,2,1)\n",
    "    plt.title('Accuracy')\n",
    "    plt.plot(epochs, accuracy, label = 'Accuracy')\n",
    "    plt.plot(epochs, val_accuracy, label = 'Val Accuracy')\n",
    "    plt.legend()\n",
    "    plt.show()\n",
    "    \n",
    "\n",
    "\n",
    "plot_accuaracy(history)\n"
   ]
  },
  {
   "cell_type": "code",
   "execution_count": 172,
   "metadata": {},
   "outputs": [
    {
     "data": {
      "image/png": "[encoded data removed]",
      "text/plain": [
       "<Figure size 1000x600 with 1 Axes>"
      ]
     },
     "metadata": {},
     "output_type": "display_data"
    }
   ],
   "source": [
    "def plot_loss(history = history):\n",
    "\n",
    "    loss = history.history['loss']\n",
    "    val_loss = history.history['val_loss']\n",
    "    epochs = np.arange(1,len(val_loss) + 1)\n",
    "\n",
    "    plt.figure(figsize=(10,6))\n",
    "\n",
    "    plt.subplot(1,2,1)\n",
    "    plt.title('Loss')\n",
    "    plt.plot(epochs, loss, label = 'Loss')\n",
    "    plt.plot(epochs, val_loss, label = 'Val Loss')\n",
    "    plt.legend()\n",
    "    plt.show()\n",
    "    \n",
    "\n",
    "\n",
    "plot_loss(history)\n"
   ]
  },
  {
   "cell_type": "code",
   "execution_count": 174,
   "metadata": {},
   "outputs": [
    {
     "name": "stdout",
     "output_type": "stream",
     "text": [
      "313/313 [==============================] - 1s 4ms/step - loss: 0.0762 - accuracy: 0.9796\n"
     ]
    },
    {
     "data": {
      "text/plain": [
       "[0.07620511204004288, 0.9796000719070435]"
      ]
     },
     "execution_count": 174,
     "metadata": {},
     "output_type": "execute_result"
    }
   ],
   "source": [
    "model.evaluate(X_test_scaled,y_test)"
   ]
  },
  {
   "cell_type": "code",
   "execution_count": 176,
   "metadata": {},
   "outputs": [
    {
     "name": "stdout",
     "output_type": "stream",
     "text": [
      "313/313 [==============================] - 1s 2ms/step\n"
     ]
    }
   ],
   "source": [
    "y_hat = model.predict(X_test_scaled)"
   ]
  },
  {
   "cell_type": "code",
   "execution_count": 196,
   "metadata": {},
   "outputs": [],
   "source": [
    "y_pred = []\n",
    "\n",
    "for i in range(0,y_hat.shape[0]):\n",
    "    #print(i)\n",
    "    y_pred.append(np.argmax(y_hat[i]))"
   ]
  },
  {
   "cell_type": "code",
   "execution_count": 197,
   "metadata": {},
   "outputs": [
    {
     "data": {
      "text/plain": [
       "(10000, 28, 28)"
      ]
     },
     "execution_count": 197,
     "metadata": {},
     "output_type": "execute_result"
    }
   ],
   "source": [
    "X_test.shape"
   ]
  },
  {
   "cell_type": "code",
   "execution_count": 198,
   "metadata": {},
   "outputs": [
    {
     "data": {
      "text/plain": [
       "<matplotlib.image.AxesImage at 0x2d343c2b0>"
      ]
     },
     "execution_count": 198,
     "metadata": {},
     "output_type": "execute_result"
    },
    {
     "data": {
      "image/png": "[encoded data removed]",
      "text/plain": [
       "<Figure size 640x480 with 1 Axes>"
      ]
     },
     "metadata": {},
     "output_type": "display_data"
    }
   ],
   "source": [
    "plt.imshow(X_test[0])"
   ]
  },
  {
   "cell_type": "code",
   "execution_count": 199,
   "metadata": {},
   "outputs": [
    {
     "data": {
      "text/plain": [
       "7"
      ]
     },
     "execution_count": 199,
     "metadata": {},
     "output_type": "execute_result"
    }
   ],
   "source": [
    "y_pred[0]"
   ]
  },
  {
   "cell_type": "code",
   "execution_count": 222,
   "metadata": {},
   "outputs": [],
   "source": [
    "# plotting it for mutiple random sample: \n",
    "import random\n",
    "\n",
    "def test_random_sample():    \n",
    "    sample_index = random.randint(0, 100)\n",
    "    print(sample_index)\n",
    "    x_sample, y_sample = X_test[sample_index], y_test[sample_index]\n",
    "    output = y_pred[sample_index]\n",
    "    plt.rcParams[\"figure.figsize\"] = [2, 2]\n",
    "    plt.imshow(x_sample)\n",
    "    plt.axis('off')\n",
    "    print(f\"Predicting on image sample {sample_index} from test data\")\n",
    "    print(f\"Prediction : {output}\")\n",
    "    print(f\"Actual : {y_sample}\")\n",
    "    plt.show()"
   ]
  },
  {
   "cell_type": "code",
   "execution_count": 224,
   "metadata": {},
   "outputs": [
    {
     "name": "stdout",
     "output_type": "stream",
     "text": [
      "93\n",
      "Predicting on image sample 93 from test data\n",
      "Prediction : 3\n",
      "Actual : 3\n"
     ]
    },
    {
     "data": {
      "image/png": "[encoded data removed]",
      "text/plain": [
       "<Figure size 200x200 with 1 Axes>"
      ]
     },
     "metadata": {},
     "output_type": "display_data"
    },
    {
     "name": "stdout",
     "output_type": "stream",
     "text": [
      "------------------\n",
      "87\n",
      "Predicting on image sample 87 from test data\n",
      "Prediction : 3\n",
      "Actual : 3\n"
     ]
    },
    {
     "data": {
      "image/png": "[encoded data removed]",
      "text/plain": [
       "<Figure size 200x200 with 1 Axes>"
      ]
     },
     "metadata": {},
     "output_type": "display_data"
    },
    {
     "name": "stdout",
     "output_type": "stream",
     "text": [
      "------------------\n",
      "58\n",
      "Predicting on image sample 58 from test data\n",
      "Prediction : 9\n",
      "Actual : 9\n"
     ]
    },
    {
     "data": {
      "image/png": "[encoded data removed]",
      "text/plain": [
       "<Figure size 200x200 with 1 Axes>"
      ]
     },
     "metadata": {},
     "output_type": "display_data"
    },
    {
     "name": "stdout",
     "output_type": "stream",
     "text": [
      "------------------\n",
      "23\n",
      "Predicting on image sample 23 from test data\n",
      "Prediction : 5\n",
      "Actual : 5\n"
     ]
    },
    {
     "data": {
      "image/png": "[encoded data removed]",
      "text/plain": [
       "<Figure size 200x200 with 1 Axes>"
      ]
     },
     "metadata": {},
     "output_type": "display_data"
    },
    {
     "name": "stdout",
     "output_type": "stream",
     "text": [
      "------------------\n",
      "94\n",
      "Predicting on image sample 94 from test data\n",
      "Prediction : 1\n",
      "Actual : 1\n"
     ]
    },
    {
     "data": {
      "image/png": "[encoded data removed]",
      "text/plain": [
       "<Figure size 200x200 with 1 Axes>"
      ]
     },
     "metadata": {},
     "output_type": "display_data"
    },
    {
     "name": "stdout",
     "output_type": "stream",
     "text": [
      "------------------\n",
      "54\n",
      "Predicting on image sample 54 from test data\n",
      "Prediction : 6\n",
      "Actual : 6\n"
     ]
    },
    {
     "data": {
      "image/png": "[encoded data removed]",
      "text/plain": [
       "<Figure size 200x200 with 1 Axes>"
      ]
     },
     "metadata": {},
     "output_type": "display_data"
    },
    {
     "name": "stdout",
     "output_type": "stream",
     "text": [
      "------------------\n",
      "6\n",
      "Predicting on image sample 6 from test data\n",
      "Prediction : 4\n",
      "Actual : 4\n"
     ]
    },
    {
     "data": {
      "image/png": "[encoded data removed]",
      "text/plain": [
       "<Figure size 200x200 with 1 Axes>"
      ]
     },
     "metadata": {},
     "output_type": "display_data"
    },
    {
     "name": "stdout",
     "output_type": "stream",
     "text": [
      "------------------\n",
      "24\n",
      "Predicting on image sample 24 from test data\n",
      "Prediction : 4\n",
      "Actual : 4\n"
     ]
    },
    {
     "data": {
      "image/png": "[encoded data removed]",
      "text/plain": [
       "<Figure size 200x200 with 1 Axes>"
      ]
     },
     "metadata": {},
     "output_type": "display_data"
    },
    {
     "name": "stdout",
     "output_type": "stream",
     "text": [
      "------------------\n",
      "70\n",
      "Predicting on image sample 70 from test data\n",
      "Prediction : 7\n",
      "Actual : 7\n"
     ]
    },
    {
     "data": {
      "image/png": "[encoded data removed]",
      "text/plain": [
       "<Figure size 200x200 with 1 Axes>"
      ]
     },
     "metadata": {},
     "output_type": "display_data"
    },
    {
     "name": "stdout",
     "output_type": "stream",
     "text": [
      "------------------\n",
      "2\n",
      "Predicting on image sample 2 from test data\n",
      "Prediction : 1\n",
      "Actual : 1\n"
     ]
    },
    {
     "data": {
      "image/png": "[encoded data removed]",
      "text/plain": [
       "<Figure size 200x200 with 1 Axes>"
      ]
     },
     "metadata": {},
     "output_type": "display_data"
    },
    {
     "name": "stdout",
     "output_type": "stream",
     "text": [
      "------------------\n"
     ]
    }
   ],
   "source": [
    "for i in range(1,11):\n",
    "    test_random_sample()\n",
    "    print('------------------')"
   ]
  }
 ],
 "metadata": {
  "kernelspec": {
   "display_name": "cnn",
   "language": "python",
   "name": "python3"
  },
  "language_info": {
   "codemirror_mode": {
    "name": "ipython",
    "version": 3
   },
   "file_extension": ".py",
   "mimetype": "text/x-python",
   "name": "python",
   "nbconvert_exporter": "python",
   "pygments_lexer": "ipython3",
   "version": "3.10.11"
  },
  "orig_nbformat": 4
 },
 "nbformat": 4,
 "nbformat_minor": 2
}

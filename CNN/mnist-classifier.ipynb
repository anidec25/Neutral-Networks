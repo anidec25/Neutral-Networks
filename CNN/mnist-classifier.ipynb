{
 "cells": [
  {
   "attachments": {},
   "cell_type": "markdown",
   "metadata": {},
   "source": [
    "## Importing all the required Libraries"
   ]
  },
  {
   "cell_type": "code",
   "execution_count": 99,
   "metadata": {},
   "outputs": [],
   "source": [
    "import numpy as np\n",
    "import pandas as pd\n",
    "import matplotlib.pyplot as plt\n",
    "\n",
    "import tensorflow as tf\n",
    "from tensorflow import keras\n",
    "from tensorflow.keras import Sequential\n",
    "from tensorflow.keras.layers import Dense, Flatten, Conv2D, MaxPooling2D,AveragePooling2D, BatchNormalization\n",
    "from tensorflow.keras import datasets\n",
    "\n",
    "\n",
    "from sklearn.preprocessing import StandardScaler"
   ]
  },
  {
   "cell_type": "code",
   "execution_count": 74,
   "metadata": {},
   "outputs": [],
   "source": [
    "(X_train,y_train), (X_test,y_test) = datasets.mnist.load_data()"
   ]
  },
  {
   "cell_type": "code",
   "execution_count": 75,
   "metadata": {},
   "outputs": [
    {
     "data": {
      "text/plain": [
       "(60000, 28, 28)"
      ]
     },
     "execution_count": 75,
     "metadata": {},
     "output_type": "execute_result"
    }
   ],
   "source": [
    "X_train.shape"
   ]
  },
  {
   "cell_type": "code",
   "execution_count": 76,
   "metadata": {},
   "outputs": [
    {
     "data": {
      "text/plain": [
       "array([[  0,   0,   0,   0,   0,   0,   0,   0,   0,   0,   0,   0,   0,\n",
       "          0,   0,   0,   0,   0,   0,   0,   0,   0,   0,   0,   0,   0,\n",
       "          0,   0],\n",
       "       [  0,   0,   0,   0,   0,   0,   0,   0,   0,   0,   0,   0,   0,\n",
       "          0,   0,   0,   0,   0,   0,   0,   0,   0,   0,   0,   0,   0,\n",
       "          0,   0],\n",
       "       [  0,   0,   0,   0,   0,   0,   0,   0,   0,   0,   0,   0,   0,\n",
       "          0,   0,   0,   0,   0,   0,   0,   0,   0,   0,   0,   0,   0,\n",
       "          0,   0],\n",
       "       [  0,   0,   0,   0,   0,   0,   0,   0,   0,   0,   0,   0,   0,\n",
       "          0,   0,   0,   0,   0,   0,   0,   0,   0,   0,   0,   0,   0,\n",
       "          0,   0],\n",
       "       [  0,   0,   0,   0,   0,   0,   0,   0,   0,   0,   0,   0,   0,\n",
       "          0,   0,   0,   0,   0,   0,   0,   0,   0,   0,   0,   0,   0,\n",
       "          0,   0],\n",
       "       [  0,   0,   0,   0,   0,   0,   0,   0,   0,   0,   0,   0,   3,\n",
       "         18,  18,  18, 126, 136, 175,  26, 166, 255, 247, 127,   0,   0,\n",
       "          0,   0],\n",
       "       [  0,   0,   0,   0,   0,   0,   0,   0,  30,  36,  94, 154, 170,\n",
       "        253, 253, 253, 253, 253, 225, 172, 253, 242, 195,  64,   0,   0,\n",
       "          0,   0],\n",
       "       [  0,   0,   0,   0,   0,   0,   0,  49, 238, 253, 253, 253, 253,\n",
       "        253, 253, 253, 253, 251,  93,  82,  82,  56,  39,   0,   0,   0,\n",
       "          0,   0],\n",
       "       [  0,   0,   0,   0,   0,   0,   0,  18, 219, 253, 253, 253, 253,\n",
       "        253, 198, 182, 247, 241,   0,   0,   0,   0,   0,   0,   0,   0,\n",
       "          0,   0],\n",
       "       [  0,   0,   0,   0,   0,   0,   0,   0,  80, 156, 107, 253, 253,\n",
       "        205,  11,   0,  43, 154,   0,   0,   0,   0,   0,   0,   0,   0,\n",
       "          0,   0],\n",
       "       [  0,   0,   0,   0,   0,   0,   0,   0,   0,  14,   1, 154, 253,\n",
       "         90,   0,   0,   0,   0,   0,   0,   0,   0,   0,   0,   0,   0,\n",
       "          0,   0],\n",
       "       [  0,   0,   0,   0,   0,   0,   0,   0,   0,   0,   0, 139, 253,\n",
       "        190,   2,   0,   0,   0,   0,   0,   0,   0,   0,   0,   0,   0,\n",
       "          0,   0],\n",
       "       [  0,   0,   0,   0,   0,   0,   0,   0,   0,   0,   0,  11, 190,\n",
       "        253,  70,   0,   0,   0,   0,   0,   0,   0,   0,   0,   0,   0,\n",
       "          0,   0],\n",
       "       [  0,   0,   0,   0,   0,   0,   0,   0,   0,   0,   0,   0,  35,\n",
       "        241, 225, 160, 108,   1,   0,   0,   0,   0,   0,   0,   0,   0,\n",
       "          0,   0],\n",
       "       [  0,   0,   0,   0,   0,   0,   0,   0,   0,   0,   0,   0,   0,\n",
       "         81, 240, 253, 253, 119,  25,   0,   0,   0,   0,   0,   0,   0,\n",
       "          0,   0],\n",
       "       [  0,   0,   0,   0,   0,   0,   0,   0,   0,   0,   0,   0,   0,\n",
       "          0,  45, 186, 253, 253, 150,  27,   0,   0,   0,   0,   0,   0,\n",
       "          0,   0],\n",
       "       [  0,   0,   0,   0,   0,   0,   0,   0,   0,   0,   0,   0,   0,\n",
       "          0,   0,  16,  93, 252, 253, 187,   0,   0,   0,   0,   0,   0,\n",
       "          0,   0],\n",
       "       [  0,   0,   0,   0,   0,   0,   0,   0,   0,   0,   0,   0,   0,\n",
       "          0,   0,   0,   0, 249, 253, 249,  64,   0,   0,   0,   0,   0,\n",
       "          0,   0],\n",
       "       [  0,   0,   0,   0,   0,   0,   0,   0,   0,   0,   0,   0,   0,\n",
       "          0,  46, 130, 183, 253, 253, 207,   2,   0,   0,   0,   0,   0,\n",
       "          0,   0],\n",
       "       [  0,   0,   0,   0,   0,   0,   0,   0,   0,   0,   0,   0,  39,\n",
       "        148, 229, 253, 253, 253, 250, 182,   0,   0,   0,   0,   0,   0,\n",
       "          0,   0],\n",
       "       [  0,   0,   0,   0,   0,   0,   0,   0,   0,   0,  24, 114, 221,\n",
       "        253, 253, 253, 253, 201,  78,   0,   0,   0,   0,   0,   0,   0,\n",
       "          0,   0],\n",
       "       [  0,   0,   0,   0,   0,   0,   0,   0,  23,  66, 213, 253, 253,\n",
       "        253, 253, 198,  81,   2,   0,   0,   0,   0,   0,   0,   0,   0,\n",
       "          0,   0],\n",
       "       [  0,   0,   0,   0,   0,   0,  18, 171, 219, 253, 253, 253, 253,\n",
       "        195,  80,   9,   0,   0,   0,   0,   0,   0,   0,   0,   0,   0,\n",
       "          0,   0],\n",
       "       [  0,   0,   0,   0,  55, 172, 226, 253, 253, 253, 253, 244, 133,\n",
       "         11,   0,   0,   0,   0,   0,   0,   0,   0,   0,   0,   0,   0,\n",
       "          0,   0],\n",
       "       [  0,   0,   0,   0, 136, 253, 253, 253, 212, 135, 132,  16,   0,\n",
       "          0,   0,   0,   0,   0,   0,   0,   0,   0,   0,   0,   0,   0,\n",
       "          0,   0],\n",
       "       [  0,   0,   0,   0,   0,   0,   0,   0,   0,   0,   0,   0,   0,\n",
       "          0,   0,   0,   0,   0,   0,   0,   0,   0,   0,   0,   0,   0,\n",
       "          0,   0],\n",
       "       [  0,   0,   0,   0,   0,   0,   0,   0,   0,   0,   0,   0,   0,\n",
       "          0,   0,   0,   0,   0,   0,   0,   0,   0,   0,   0,   0,   0,\n",
       "          0,   0],\n",
       "       [  0,   0,   0,   0,   0,   0,   0,   0,   0,   0,   0,   0,   0,\n",
       "          0,   0,   0,   0,   0,   0,   0,   0,   0,   0,   0,   0,   0,\n",
       "          0,   0]], dtype=uint8)"
      ]
     },
     "execution_count": 76,
     "metadata": {},
     "output_type": "execute_result"
    }
   ],
   "source": [
    "X_train[0]        "
   ]
  },
  {
   "cell_type": "code",
   "execution_count": 77,
   "metadata": {},
   "outputs": [],
   "source": [
    "X_train_scaled = X_train/255\n",
    "X_test_scaled = X_test/255"
   ]
  },
  {
   "cell_type": "code",
   "execution_count": 102,
   "metadata": {},
   "outputs": [],
   "source": [
    "## Defining the CNN architecture\n",
    "\n",
    "model = Sequential(\n",
    "    name = 'Baseline_Model',\n",
    "    layers = [Conv2D(32, kernel_size = (3,3), padding = 'valid', activation = 'relu', input_shape=(28,28,1)),\n",
    "              AveragePooling2D(pool_size = (2,2)),\n",
    "\n",
    "              BatchNormalization(),\n",
    "\n",
    "              Conv2D(64, kernel_size = (3,3), padding = 'valid', activation = 'relu'),\n",
    "              AveragePooling2D(pool_size = (2,2)),\n",
    "\n",
    "              BatchNormalization(),\n",
    "\n",
    "              Conv2D(128, kernel_size = (3,3), padding = 'valid', activation = 'relu', input_shape=(28,28,1)),\n",
    "              AveragePooling2D(pool_size = (2,2)),\n",
    "\n",
    "              BatchNormalization(),\n",
    "            \n",
    "\n",
    "              Flatten(),\n",
    "              Dense(128, activation = 'relu'),\n",
    "              Dense(64,activation = 'relu'),\n",
    "              Dense(10, activation = 'softmax')\n",
    "              ]\n",
    "    )"
   ]
  },
  {
   "cell_type": "code",
   "execution_count": 103,
   "metadata": {},
   "outputs": [
    {
     "name": "stdout",
     "output_type": "stream",
     "text": [
      "Model: \"Baseline_Model\"\n",
      "_________________________________________________________________\n",
      " Layer (type)                Output Shape              Param #   \n",
      "=================================================================\n",
      " conv2d_42 (Conv2D)          (None, 26, 26, 32)        320       \n",
      "                                                                 \n",
      " average_pooling2d_28 (Avera  (None, 13, 13, 32)       0         \n",
      " gePooling2D)                                                    \n",
      "                                                                 \n",
      " batch_normalization_6 (Batc  (None, 13, 13, 32)       128       \n",
      " hNormalization)                                                 \n",
      "                                                                 \n",
      " conv2d_43 (Conv2D)          (None, 11, 11, 64)        18496     \n",
      "                                                                 \n",
      " average_pooling2d_29 (Avera  (None, 5, 5, 64)         0         \n",
      " gePooling2D)                                                    \n",
      "                                                                 \n",
      " batch_normalization_7 (Batc  (None, 5, 5, 64)         256       \n",
      " hNormalization)                                                 \n",
      "                                                                 \n",
      " conv2d_44 (Conv2D)          (None, 3, 3, 128)         73856     \n",
      "                                                                 \n",
      " average_pooling2d_30 (Avera  (None, 1, 1, 128)        0         \n",
      " gePooling2D)                                                    \n",
      "                                                                 \n",
      " batch_normalization_8 (Batc  (None, 1, 1, 128)        512       \n",
      " hNormalization)                                                 \n",
      "                                                                 \n",
      " flatten_17 (Flatten)        (None, 128)               0         \n",
      "                                                                 \n",
      " dense_45 (Dense)            (None, 128)               16512     \n",
      "                                                                 \n",
      " dense_46 (Dense)            (None, 64)                8256      \n",
      "                                                                 \n",
      " dense_47 (Dense)            (None, 10)                650       \n",
      "                                                                 \n",
      "=================================================================\n",
      "Total params: 118,986\n",
      "Trainable params: 118,538\n",
      "Non-trainable params: 448\n",
      "_________________________________________________________________\n"
     ]
    }
   ],
   "source": [
    "model.summary()"
   ]
  },
  {
   "cell_type": "code",
   "execution_count": 104,
   "metadata": {},
   "outputs": [],
   "source": [
    "model.compile(loss='sparse_categorical_crossentropy', optimizer='Adam', metrics=['accuracy'])"
   ]
  },
  {
   "cell_type": "code",
   "execution_count": 105,
   "metadata": {},
   "outputs": [
    {
     "name": "stdout",
     "output_type": "stream",
     "text": [
      "Epoch 1/20\n",
      "750/750 [==============================] - 8s 11ms/step - loss: 0.1741 - accuracy: 0.9474 - val_loss: 0.1183 - val_accuracy: 0.9627\n",
      "Epoch 2/20\n",
      "750/750 [==============================] - 8s 10ms/step - loss: 0.1064 - accuracy: 0.9696 - val_loss: 0.1355 - val_accuracy: 0.9650\n",
      "Epoch 3/20\n",
      "750/750 [==============================] - 8s 10ms/step - loss: 0.1375 - accuracy: 0.9664 - val_loss: 0.2179 - val_accuracy: 0.9520\n",
      "Epoch 4/20\n",
      "750/750 [==============================] - 8s 10ms/step - loss: 0.1930 - accuracy: 0.9635 - val_loss: 0.2598 - val_accuracy: 0.9649\n",
      "Epoch 5/20\n",
      "750/750 [==============================] - 8s 10ms/step - loss: 0.2888 - accuracy: 0.9660 - val_loss: 0.5463 - val_accuracy: 0.9492\n",
      "Epoch 6/20\n",
      "750/750 [==============================] - 8s 10ms/step - loss: 0.3681 - accuracy: 0.9671 - val_loss: 0.5347 - val_accuracy: 0.9610\n",
      "Epoch 7/20\n",
      "750/750 [==============================] - 8s 10ms/step - loss: 0.4876 - accuracy: 0.9672 - val_loss: 2.2410 - val_accuracy: 0.9066\n",
      "Epoch 8/20\n",
      "750/750 [==============================] - 8s 10ms/step - loss: 0.5847 - accuracy: 0.9682 - val_loss: 0.8565 - val_accuracy: 0.9642\n",
      "Epoch 9/20\n",
      "750/750 [==============================] - 8s 10ms/step - loss: 0.8433 - accuracy: 0.9669 - val_loss: 0.9237 - val_accuracy: 0.9710\n",
      "Epoch 10/20\n",
      "750/750 [==============================] - 8s 10ms/step - loss: 0.8841 - accuracy: 0.9711 - val_loss: 1.0236 - val_accuracy: 0.9724\n",
      "Epoch 11/20\n",
      "750/750 [==============================] - 8s 10ms/step - loss: 1.0065 - accuracy: 0.9720 - val_loss: 1.3077 - val_accuracy: 0.9733\n",
      "Epoch 12/20\n",
      "750/750 [==============================] - 8s 10ms/step - loss: 1.5608 - accuracy: 0.9691 - val_loss: 1.7795 - val_accuracy: 0.9698\n",
      "Epoch 13/20\n",
      "750/750 [==============================] - 8s 10ms/step - loss: 1.4895 - accuracy: 0.9740 - val_loss: 1.8048 - val_accuracy: 0.9713\n",
      "Epoch 14/20\n",
      "750/750 [==============================] - 8s 10ms/step - loss: 1.9686 - accuracy: 0.9705 - val_loss: 2.2847 - val_accuracy: 0.9693\n",
      "Epoch 15/20\n",
      "750/750 [==============================] - 8s 10ms/step - loss: 2.4481 - accuracy: 0.9702 - val_loss: 2.6455 - val_accuracy: 0.9728\n",
      "Epoch 16/20\n",
      "750/750 [==============================] - 8s 10ms/step - loss: 2.4639 - accuracy: 0.9731 - val_loss: 6.5455 - val_accuracy: 0.9575\n",
      "Epoch 17/20\n",
      "750/750 [==============================] - 8s 10ms/step - loss: 3.0098 - accuracy: 0.9728 - val_loss: 5.7397 - val_accuracy: 0.9633\n",
      "Epoch 18/20\n",
      "750/750 [==============================] - 8s 11ms/step - loss: 4.8198 - accuracy: 0.9662 - val_loss: 5.3661 - val_accuracy: 0.9733\n",
      "Epoch 19/20\n",
      "750/750 [==============================] - 8s 11ms/step - loss: 4.4317 - accuracy: 0.9719 - val_loss: 4.5831 - val_accuracy: 0.9815\n",
      "Epoch 20/20\n",
      "750/750 [==============================] - 8s 11ms/step - loss: 5.0807 - accuracy: 0.9708 - val_loss: 6.0130 - val_accuracy: 0.9765\n"
     ]
    }
   ],
   "source": [
    "history = model.fit(\n",
    "    X_train_scaled,\n",
    "    y_train,\n",
    "    batch_size = 64,\n",
    "    epochs= 20,\n",
    "    #callbacks = [tf.keras.callbacks.EarlyStopping(monitor = 'loss', patience= 5)],\n",
    "    validation_split = 0.2\n",
    ")"
   ]
  },
  {
   "cell_type": "code",
   "execution_count": 106,
   "metadata": {},
   "outputs": [
    {
     "data": {
      "text/plain": [
       "{'loss': [0.17406150698661804,\n",
       "  0.1064390167593956,\n",
       "  0.13747663795948029,\n",
       "  0.1930105984210968,\n",
       "  0.2887851595878601,\n",
       "  0.3681271970272064,\n",
       "  0.48756566643714905,\n",
       "  0.5846653580665588,\n",
       "  0.8433473110198975,\n",
       "  0.8840771913528442,\n",
       "  1.0065220594406128,\n",
       "  1.5607733726501465,\n",
       "  1.489497423171997,\n",
       "  1.9686172008514404,\n",
       "  2.448110342025757,\n",
       "  2.463869333267212,\n",
       "  3.009810209274292,\n",
       "  4.819846153259277,\n",
       "  4.43166971206665,\n",
       "  5.08071756362915],\n",
       " 'accuracy': [0.9473958015441895,\n",
       "  0.9696249961853027,\n",
       "  0.9663957953453064,\n",
       "  0.9634999632835388,\n",
       "  0.965958297252655,\n",
       "  0.9670833349227905,\n",
       "  0.9672291278839111,\n",
       "  0.9682083129882812,\n",
       "  0.9669166803359985,\n",
       "  0.9710833430290222,\n",
       "  0.972041666507721,\n",
       "  0.969083309173584,\n",
       "  0.9740416407585144,\n",
       "  0.9705416560173035,\n",
       "  0.9701666831970215,\n",
       "  0.9731458425521851,\n",
       "  0.9727500081062317,\n",
       "  0.9661874771118164,\n",
       "  0.9719374775886536,\n",
       "  0.9708333015441895],\n",
       " 'val_loss': [0.11827520281076431,\n",
       "  0.13547606766223907,\n",
       "  0.21787884831428528,\n",
       "  0.25983911752700806,\n",
       "  0.5463358163833618,\n",
       "  0.5346598029136658,\n",
       "  2.2409679889678955,\n",
       "  0.8564662337303162,\n",
       "  0.9236575961112976,\n",
       "  1.023555874824524,\n",
       "  1.307661771774292,\n",
       "  1.7794864177703857,\n",
       "  1.8048224449157715,\n",
       "  2.2846791744232178,\n",
       "  2.6454710960388184,\n",
       "  6.5455098152160645,\n",
       "  5.739681720733643,\n",
       "  5.36612606048584,\n",
       "  4.58309268951416,\n",
       "  6.012999057769775],\n",
       " 'val_accuracy': [0.9626666307449341,\n",
       "  0.9649999737739563,\n",
       "  0.9519999623298645,\n",
       "  0.9649166464805603,\n",
       "  0.9492499828338623,\n",
       "  0.9609999656677246,\n",
       "  0.906583309173584,\n",
       "  0.9641666412353516,\n",
       "  0.9710000157356262,\n",
       "  0.9724166393280029,\n",
       "  0.9733332991600037,\n",
       "  0.9698333144187927,\n",
       "  0.9713333249092102,\n",
       "  0.9693333506584167,\n",
       "  0.9727500081062317,\n",
       "  0.9574999809265137,\n",
       "  0.9633333086967468,\n",
       "  0.9733332991600037,\n",
       "  0.981499969959259,\n",
       "  0.9764999747276306]}"
      ]
     },
     "execution_count": 106,
     "metadata": {},
     "output_type": "execute_result"
    }
   ],
   "source": [
    "history.history"
   ]
  },
  {
   "cell_type": "code",
   "execution_count": 111,
   "metadata": {},
   "outputs": [
    {
     "data": {
      "image/png": "[encoded data removed]",
      "text/plain": [
       "<Figure size 1000x600 with 1 Axes>"
      ]
     },
     "metadata": {},
     "output_type": "display_data"
    }
   ],
   "source": [
    "def plot_accuaracy(history = history):\n",
    "\n",
    "    accuracy = history.history['accuracy']\n",
    "    val_accuracy = history.history['val_accuracy']\n",
    "    epochs = np.arange(1,len(val_accuracy) + 1)\n",
    "\n",
    "    plt.figure(figsize=(10,6))\n",
    "\n",
    "    plt.subplot(1,2,1)\n",
    "    plt.title('Accuracy')\n",
    "    plt.plot(epochs, accuracy, label = 'Accuracy')\n",
    "    plt.plot(epochs, val_accuracy, label = 'Val Accuracy')\n",
    "    plt.legend()\n",
    "    plt.show()\n",
    "    \n",
    "\n",
    "\n",
    "plot_accuaracy(history)\n"
   ]
  },
  {
   "cell_type": "code",
   "execution_count": 113,
   "metadata": {},
   "outputs": [
    {
     "data": {
      "image/png": "[encoded data removed]",
      "text/plain": [
       "<Figure size 1000x600 with 1 Axes>"
      ]
     },
     "metadata": {},
     "output_type": "display_data"
    }
   ],
   "source": [
    "def plot_loss(history = history):\n",
    "\n",
    "    loss = history.history['loss']\n",
    "    val_loss = history.history['val_loss']\n",
    "    epochs = np.arange(1,len(val_loss) + 1)\n",
    "\n",
    "    plt.figure(figsize=(10,6))\n",
    "\n",
    "    plt.subplot(1,2,1)\n",
    "    plt.title('Loss')\n",
    "    plt.plot(epochs, loss, label = 'Loss')\n",
    "    plt.plot(epochs, val_loss, label = 'Val Loss')\n",
    "    plt.legend()\n",
    "    plt.show()\n",
    "    \n",
    "\n",
    "\n",
    "plot_loss(history)\n"
   ]
  },
  {
   "attachments": {},
   "cell_type": "markdown",
   "metadata": {},
   "source": [
    "### Something is wrong with our approach. The loss keeps increasing over the number of epochs."
   ]
  },
  {
   "cell_type": "code",
   "execution_count": null,
   "metadata": {},
   "outputs": [],
   "source": []
  }
 ],
 "metadata": {
  "kernelspec": {
   "display_name": "cnn",
   "language": "python",
   "name": "python3"
  },
  "language_info": {
   "codemirror_mode": {
    "name": "ipython",
    "version": 3
   },
   "file_extension": ".py",
   "mimetype": "text/x-python",
   "name": "python",
   "nbconvert_exporter": "python",
   "pygments_lexer": "ipython3",
   "version": "3.10.11"
  },
  "orig_nbformat": 4
 },
 "nbformat": 4,
 "nbformat_minor": 2
}

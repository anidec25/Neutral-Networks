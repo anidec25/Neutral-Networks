{
 "cells": [
  {
   "attachments": {},
   "cell_type": "markdown",
   "metadata": {},
   "source": [
    "## Importing all the required Libraries"
   ]
  },
  {
   "cell_type": "code",
   "execution_count": 35,
   "metadata": {},
   "outputs": [],
   "source": [
    "import numpy as np\n",
    "import pandas as pd\n",
    "\n",
    "import tensorflow as tf\n",
    "from tensorflow import keras\n",
    "from tensorflow.keras import Sequential\n",
    "from tensorflow.keras.layers import Dense, Flatten, Conv2D, MaxPooling2D,AveragePooling2D\n",
    "from tensorflow.keras import datasets"
   ]
  },
  {
   "cell_type": "code",
   "execution_count": 5,
   "metadata": {},
   "outputs": [],
   "source": [
    "(X_train,y_train), (X_test,y_test) = datasets.mnist.load_data()"
   ]
  },
  {
   "cell_type": "code",
   "execution_count": 9,
   "metadata": {},
   "outputs": [
    {
     "data": {
      "text/plain": [
       "(60000, 28, 28)"
      ]
     },
     "execution_count": 9,
     "metadata": {},
     "output_type": "execute_result"
    }
   ],
   "source": [
    "X_train.shape"
   ]
  },
  {
   "cell_type": "code",
   "execution_count": null,
   "metadata": {},
   "outputs": [],
   "source": [
    "preprocess = Sequential(\n",
    "    name = 'pre-process',\n",
    "    layers = [keras.layers.Rescaling(1./255)]\n",
    ")"
   ]
  },
  {
   "cell_type": "code",
   "execution_count": 48,
   "metadata": {},
   "outputs": [],
   "source": [
    "## Defining the CNN architecture\n",
    "\n",
    "model = Sequential(\n",
    "    name = 'Baseline_Model',\n",
    "    layers = [Conv2D(32, kernel_size = (3,3), padding = 'valid', activation = 'relu', input_shape=(28,28,1)),\n",
    "              AveragePooling2D(pool_size = (2,2)),\n",
    "              Conv2D(64, kernel_size = (3,3), padding = 'valid', activation = 'relu'),\n",
    "              AveragePooling2D(pool_size = (2,2)),\n",
    "\n",
    "              Flatten(),\n",
    "              Dense(128, activation = 'relu'),\n",
    "              Dense(64,activation = 'relu'),\n",
    "              Dense(10, activation = 'softmax')\n",
    "              ]\n",
    "    )"
   ]
  },
  {
   "cell_type": "code",
   "execution_count": 49,
   "metadata": {},
   "outputs": [
    {
     "name": "stdout",
     "output_type": "stream",
     "text": [
      "Model: \"Baseline_Model\"\n",
      "_________________________________________________________________\n",
      " Layer (type)                Output Shape              Param #   \n",
      "=================================================================\n",
      " conv2d_20 (Conv2D)          (None, 26, 26, 32)        320       \n",
      "                                                                 \n",
      " average_pooling2d_6 (Averag  (None, 13, 13, 32)       0         \n",
      " ePooling2D)                                                     \n",
      "                                                                 \n",
      " conv2d_21 (Conv2D)          (None, 11, 11, 64)        18496     \n",
      "                                                                 \n",
      " average_pooling2d_7 (Averag  (None, 5, 5, 64)         0         \n",
      " ePooling2D)                                                     \n",
      "                                                                 \n",
      " flatten_10 (Flatten)        (None, 1600)              0         \n",
      "                                                                 \n",
      " dense_24 (Dense)            (None, 128)               204928    \n",
      "                                                                 \n",
      " dense_25 (Dense)            (None, 64)                8256      \n",
      "                                                                 \n",
      " dense_26 (Dense)            (None, 10)                650       \n",
      "                                                                 \n",
      "=================================================================\n",
      "Total params: 232,650\n",
      "Trainable params: 232,650\n",
      "Non-trainable params: 0\n",
      "_________________________________________________________________\n"
     ]
    }
   ],
   "source": [
    "model.summary()"
   ]
  },
  {
   "cell_type": "code",
   "execution_count": 52,
   "metadata": {},
   "outputs": [],
   "source": [
    "model.compile(loss='sparse_categorical_crossentropy', optimizer='Adam', metrics=['accuracy'])"
   ]
  },
  {
   "cell_type": "code",
   "execution_count": 54,
   "metadata": {},
   "outputs": [
    {
     "name": "stdout",
     "output_type": "stream",
     "text": [
      "Epoch 1/100\n",
      "1500/1500 [==============================] - 11s 7ms/step - loss: 3982.3503 - accuracy: 0.9500 - val_loss: 7373.6064 - val_accuracy: 0.9436\n",
      "Epoch 2/100\n",
      "1500/1500 [==============================] - 10s 7ms/step - loss: 15490.9932 - accuracy: 0.9431 - val_loss: 14299.9854 - val_accuracy: 0.9666\n",
      "Epoch 3/100\n",
      "1500/1500 [==============================] - 11s 7ms/step - loss: 46368.2031 - accuracy: 0.9380 - val_loss: 48945.2695 - val_accuracy: 0.9475\n",
      "Epoch 4/100\n",
      "1500/1500 [==============================] - 11s 7ms/step - loss: 130728.6484 - accuracy: 0.9288 - val_loss: 220952.5312 - val_accuracy: 0.9308\n",
      "Epoch 5/100\n",
      "1500/1500 [==============================] - 10s 7ms/step - loss: 350331.6562 - accuracy: 0.9184 - val_loss: 346573.7500 - val_accuracy: 0.9352\n",
      "Epoch 6/100\n",
      "1500/1500 [==============================] - 10s 7ms/step - loss: 846784.8750 - accuracy: 0.9086 - val_loss: 1826801.0000 - val_accuracy: 0.8665\n"
     ]
    }
   ],
   "source": [
    "history = model.fit(\n",
    "    X_train,\n",
    "    y_train,\n",
    "    epochs= 100,\n",
    "    callbacks = [tf.keras.callbacks.EarlyStopping(monitor = 'loss', patience= 5)],\n",
    "    validation_split = 0.2\n",
    ")"
   ]
  },
  {
   "cell_type": "code",
   "execution_count": 57,
   "metadata": {},
   "outputs": [
    {
     "data": {
      "text/plain": [
       "{'loss': [3982.350341796875,\n",
       "  15490.9931640625,\n",
       "  46368.203125,\n",
       "  130728.6484375,\n",
       "  350331.65625,\n",
       "  846784.875],\n",
       " 'accuracy': [0.9499791860580444,\n",
       "  0.9431250095367432,\n",
       "  0.937958300113678,\n",
       "  0.9287708401679993,\n",
       "  0.9183958172798157,\n",
       "  0.9085833430290222],\n",
       " 'val_loss': [7373.6064453125,\n",
       "  14299.9853515625,\n",
       "  48945.26953125,\n",
       "  220952.53125,\n",
       "  346573.75,\n",
       "  1826801.0],\n",
       " 'val_accuracy': [0.9435833096504211,\n",
       "  0.9665833115577698,\n",
       "  0.9474999904632568,\n",
       "  0.9308333396911621,\n",
       "  0.9351666569709778,\n",
       "  0.8665000200271606]}"
      ]
     },
     "execution_count": 57,
     "metadata": {},
     "output_type": "execute_result"
    }
   ],
   "source": [
    "history.history"
   ]
  },
  {
   "cell_type": "code",
   "execution_count": null,
   "metadata": {},
   "outputs": [],
   "source": []
  }
 ],
 "metadata": {
  "kernelspec": {
   "display_name": "cnn",
   "language": "python",
   "name": "python3"
  },
  "language_info": {
   "codemirror_mode": {
    "name": "ipython",
    "version": 3
   },
   "file_extension": ".py",
   "mimetype": "text/x-python",
   "name": "python",
   "nbconvert_exporter": "python",
   "pygments_lexer": "ipython3",
   "version": "3.10.11"
  },
  "orig_nbformat": 4
 },
 "nbformat": 4,
 "nbformat_minor": 2
}
